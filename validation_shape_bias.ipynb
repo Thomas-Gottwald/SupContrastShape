{
 "cells": [
  {
   "cell_type": "code",
   "execution_count": 1,
   "metadata": {},
   "outputs": [],
   "source": [
    "import util.util_validation as ut_val\n",
    "import util.util_shape_bias as ut_sb\n",
    "\n",
    "from util.util_logging import create_distances_md, create_shape_bias_md"
   ]
  },
  {
   "cell_type": "code",
   "execution_count": 2,
   "metadata": {},
   "outputs": [
    {
     "name": "stdout",
     "output_type": "stream",
     "text": [
      "| model_name                                     |\n",
      "|:-----------------------------------------------|\n",
      "| SupCon_animals10_diff_-1+stylized_cAugSameSAug |\n"
     ]
    }
   ],
   "source": [
    "# exclude_params_dict = {\"tag\": [\"CropSize32\", \"divergent\", \"toSlow\", \"lrAdjust1\", \"lrAdjust2\", \"noCosine\", \"bszAdjust1\"],\n",
    "#                        \"dataset\": [\"city_classification_original\", \"city_classification_diff\", \"city_classification_original+diff\"]}\n",
    "exclude_params_dict = {\"tag\": [\"CropSize32\", \"divergent\", \"toSlow\", \"lrAdjust1\", \"lrAdjust2\", \"noCosine\", \"bszAdjust1\"]}\n",
    "keep_params_dict = {\"aug\": [\"colorJitter\", \"grayscale\"], \"tag\": \"stylizedCAugSameSAug_try5\"}\n",
    "models_dict, df_modelNames = ut_val.collect_models_dict(epoch=\"last\", dataset_classifier=\"\", exclude_params_dict=exclude_params_dict, keep_params_dict=keep_params_dict)\n",
    "print(df_modelNames.to_markdown(index=False))"
   ]
  },
  {
   "cell_type": "code",
   "execution_count": 3,
   "metadata": {},
   "outputs": [],
   "source": [
    "cuda_device = 0\n",
    "\n",
    "dataset_cue_conflict = \"shape_texture_conflict_animals10_many\"\n",
    "\n",
    "dataset_orig = \"animals10_diff_-1\"# \"city_classification_original\"\n",
    "dataset_shape = \"animals10_diff_stylized\"# \"stylized_city_classification\"\n",
    "dataset_diff = \"animals10_diff_8000\"# \"city_classification_diff\""
   ]
  },
  {
   "cell_type": "markdown",
   "metadata": {},
   "source": [
    "## Validations"
   ]
  },
  {
   "cell_type": "markdown",
   "metadata": {},
   "source": [
    "### Cue Conflict Shape Bias"
   ]
  },
  {
   "cell_type": "code",
   "execution_count": 4,
   "metadata": {},
   "outputs": [
    {
     "name": "stdout",
     "output_type": "stream",
     "text": [
      "Get predictions for shape texture cue conflict dataset\n"
     ]
    },
    {
     "name": "stderr",
     "output_type": "stream",
     "text": [
      "100%|██████████| 897/897 [04:24<00:00,  3.39it/s]\n"
     ]
    },
    {
     "data": {
      "text/html": [
       "<div>\n",
       "<style scoped>\n",
       "    .dataframe tbody tr th:only-of-type {\n",
       "        vertical-align: middle;\n",
       "    }\n",
       "\n",
       "    .dataframe tbody tr th {\n",
       "        vertical-align: top;\n",
       "    }\n",
       "\n",
       "    .dataframe thead th {\n",
       "        text-align: right;\n",
       "    }\n",
       "</style>\n",
       "<table border=\"1\" class=\"dataframe\">\n",
       "  <thead>\n",
       "    <tr style=\"text-align: right;\">\n",
       "      <th></th>\n",
       "      <th>SupCon_animals10_diff_-1+stylized_cAugSameSAug</th>\n",
       "    </tr>\n",
       "  </thead>\n",
       "  <tbody>\n",
       "    <tr>\n",
       "      <th>shape_bias</th>\n",
       "      <td>0.924073</td>\n",
       "    </tr>\n",
       "    <tr>\n",
       "      <th>shape_bias_b</th>\n",
       "      <td>0.924073</td>\n",
       "    </tr>\n",
       "    <tr>\n",
       "      <th>acc</th>\n",
       "      <td>0.632819</td>\n",
       "    </tr>\n",
       "    <tr>\n",
       "      <th>acc_b</th>\n",
       "      <td>0.632819</td>\n",
       "    </tr>\n",
       "    <tr>\n",
       "      <th>acc_shape</th>\n",
       "      <td>0.584770</td>\n",
       "    </tr>\n",
       "    <tr>\n",
       "      <th>acc_b_shape</th>\n",
       "      <td>0.584770</td>\n",
       "    </tr>\n",
       "    <tr>\n",
       "      <th>acc_texture</th>\n",
       "      <td>0.048048</td>\n",
       "    </tr>\n",
       "    <tr>\n",
       "      <th>acc_b_texture</th>\n",
       "      <td>0.048048</td>\n",
       "    </tr>\n",
       "  </tbody>\n",
       "</table>\n",
       "</div>"
      ],
      "text/plain": [
       "               SupCon_animals10_diff_-1+stylized_cAugSameSAug\n",
       "shape_bias                                           0.924073\n",
       "shape_bias_b                                         0.924073\n",
       "acc                                                  0.632819\n",
       "acc_b                                                0.632819\n",
       "acc_shape                                            0.584770\n",
       "acc_b_shape                                          0.584770\n",
       "acc_texture                                          0.048048\n",
       "acc_b_texture                                        0.048048"
      ]
     },
     "execution_count": 4,
     "metadata": {},
     "output_type": "execute_result"
    },
    {
     "data": {
      "image/png": "[encoded data removed]",
      "text/plain": [
       "<Figure size 640x480 with 1 Axes>"
      ]
     },
     "metadata": {},
     "output_type": "display_data"
    },
    {
     "data": {
      "image/png": "[encoded data removed]",
      "text/plain": [
       "<Figure size 640x480 with 1 Axes>"
      ]
     },
     "metadata": {},
     "output_type": "display_data"
    }
   ],
   "source": [
    "df_biases, class_biases = ut_sb.cue_conflict_shape_bias_metric_for_many(models_dict, dataset_cue_conflict, cuda_device)\n",
    "ut_sb.save_cue_conflict_shape_bias_to_csv_file_for_many(models_dict, df_biases, class_biases, dataset_cue_conflict, save_plots=True)\n",
    "\n",
    "for m in models_dict:\n",
    "    root_model, _ = models_dict[m]\n",
    "    path_folder, _ = ut_val.get_paths_from_model_checkpoint(root_model)\n",
    "    create_shape_bias_md(path_folder)\n",
    "\n",
    "df_biases"
   ]
  },
  {
   "cell_type": "markdown",
   "metadata": {},
   "source": [
    "### Correlation Coefficient Shape Bias"
   ]
  },
  {
   "cell_type": "code",
   "execution_count": 5,
   "metadata": {},
   "outputs": [
    {
     "name": "stderr",
     "output_type": "stream",
     "text": [
      "100%|██████████| 202/202 [01:01<00:00,  3.27it/s]\n"
     ]
    },
    {
     "data": {
      "text/html": [
       "<div>\n",
       "<style scoped>\n",
       "    .dataframe tbody tr th:only-of-type {\n",
       "        vertical-align: middle;\n",
       "    }\n",
       "\n",
       "    .dataframe tbody tr th {\n",
       "        vertical-align: top;\n",
       "    }\n",
       "\n",
       "    .dataframe thead th {\n",
       "        text-align: right;\n",
       "    }\n",
       "</style>\n",
       "<table border=\"1\" class=\"dataframe\">\n",
       "  <thead>\n",
       "    <tr style=\"text-align: right;\">\n",
       "      <th></th>\n",
       "      <th>shape_dims</th>\n",
       "      <th>texture_dims</th>\n",
       "      <th>remaining_dims</th>\n",
       "    </tr>\n",
       "  </thead>\n",
       "  <tbody>\n",
       "    <tr>\n",
       "      <th>SupCon_animals10_diff_-1+stylized_cAugSameSAug</th>\n",
       "      <td>145</td>\n",
       "      <td>124</td>\n",
       "      <td>243</td>\n",
       "    </tr>\n",
       "  </tbody>\n",
       "</table>\n",
       "</div>"
      ],
      "text/plain": [
       "                                                shape_dims  texture_dims  \\\n",
       "SupCon_animals10_diff_-1+stylized_cAugSameSAug         145           124   \n",
       "\n",
       "                                                remaining_dims  \n",
       "SupCon_animals10_diff_-1+stylized_cAugSameSAug             243  "
      ]
     },
     "execution_count": 5,
     "metadata": {},
     "output_type": "execute_result"
    }
   ],
   "source": [
    "df_dimensions = ut_sb.corelation_coefficient_shape_bias_metric_for_many(models_dict, dataset_orig, dataset_shape, cuda_device, separate_color=False, apply_ColorJitter=[])\n",
    "ut_sb.save_correlation_coefficient_shape_bias_to_csv_file_for_many(models_dict, df_dimensions, dataset_dict={\"shape\": dataset_shape, \"texture\": dataset_orig},\n",
    "                                                                   apply_ColorJitter=[])\n",
    "\n",
    "for m in models_dict:\n",
    "    root_model, _ = models_dict[m]\n",
    "    path_folder, _ = ut_val.get_paths_from_model_checkpoint(root_model)\n",
    "    create_shape_bias_md(path_folder)\n",
    "\n",
    "df_dimensions"
   ]
  },
  {
   "cell_type": "markdown",
   "metadata": {},
   "source": [
    "#### Separate Color"
   ]
  },
  {
   "cell_type": "code",
   "execution_count": 6,
   "metadata": {},
   "outputs": [
    {
     "name": "stderr",
     "output_type": "stream",
     "text": [
      "100%|██████████| 202/202 [02:01<00:00,  1.66it/s]\n"
     ]
    },
    {
     "data": {
      "text/html": [
       "<div>\n",
       "<style scoped>\n",
       "    .dataframe tbody tr th:only-of-type {\n",
       "        vertical-align: middle;\n",
       "    }\n",
       "\n",
       "    .dataframe tbody tr th {\n",
       "        vertical-align: top;\n",
       "    }\n",
       "\n",
       "    .dataframe thead th {\n",
       "        text-align: right;\n",
       "    }\n",
       "</style>\n",
       "<table border=\"1\" class=\"dataframe\">\n",
       "  <thead>\n",
       "    <tr style=\"text-align: right;\">\n",
       "      <th></th>\n",
       "      <th>shape_dims</th>\n",
       "      <th>texture_dims</th>\n",
       "      <th>color_dims</th>\n",
       "      <th>remaining_dims</th>\n",
       "    </tr>\n",
       "  </thead>\n",
       "  <tbody>\n",
       "    <tr>\n",
       "      <th>SupCon_animals10_diff_-1+stylized_cAugSameSAug</th>\n",
       "      <td>124</td>\n",
       "      <td>105</td>\n",
       "      <td>76</td>\n",
       "      <td>207</td>\n",
       "    </tr>\n",
       "  </tbody>\n",
       "</table>\n",
       "</div>"
      ],
      "text/plain": [
       "                                                shape_dims  texture_dims  \\\n",
       "SupCon_animals10_diff_-1+stylized_cAugSameSAug         124           105   \n",
       "\n",
       "                                                color_dims  remaining_dims  \n",
       "SupCon_animals10_diff_-1+stylized_cAugSameSAug          76             207  "
      ]
     },
     "execution_count": 6,
     "metadata": {},
     "output_type": "execute_result"
    }
   ],
   "source": [
    "df_dimensions = ut_sb.corelation_coefficient_shape_bias_metric_for_many(models_dict, dataset_orig, dataset_shape, cuda_device, separate_color=True, apply_ColorJitter=[\"texture\"])\n",
    "ut_sb.save_correlation_coefficient_shape_bias_to_csv_file_for_many(models_dict, df_dimensions, dataset_dict={\"shape\": dataset_shape, \"texture\": dataset_orig, \"color\": dataset_orig},\n",
    "                                                                   apply_ColorJitter=[\"texture\"])\n",
    "\n",
    "for m in models_dict:\n",
    "    root_model, _ = models_dict[m]\n",
    "    path_folder, _ = ut_val.get_paths_from_model_checkpoint(root_model)\n",
    "    create_shape_bias_md(path_folder)\n",
    "\n",
    "df_dimensions"
   ]
  },
  {
   "cell_type": "markdown",
   "metadata": {},
   "source": [
    "#### Form Cue Conflict Dataset"
   ]
  },
  {
   "cell_type": "code",
   "execution_count": 7,
   "metadata": {},
   "outputs": [
    {
     "name": "stderr",
     "output_type": "stream",
     "text": [
      "100%|██████████| 897/897 [04:38<00:00,  3.22it/s]\n"
     ]
    },
    {
     "data": {
      "text/html": [
       "<div>\n",
       "<style scoped>\n",
       "    .dataframe tbody tr th:only-of-type {\n",
       "        vertical-align: middle;\n",
       "    }\n",
       "\n",
       "    .dataframe tbody tr th {\n",
       "        vertical-align: top;\n",
       "    }\n",
       "\n",
       "    .dataframe thead th {\n",
       "        text-align: right;\n",
       "    }\n",
       "</style>\n",
       "<table border=\"1\" class=\"dataframe\">\n",
       "  <thead>\n",
       "    <tr style=\"text-align: right;\">\n",
       "      <th></th>\n",
       "      <th>shape_dims</th>\n",
       "      <th>texture_dims</th>\n",
       "      <th>remaining_dims</th>\n",
       "    </tr>\n",
       "  </thead>\n",
       "  <tbody>\n",
       "    <tr>\n",
       "      <th>SupCon_animals10_diff_-1+stylized_cAugSameSAug</th>\n",
       "      <td>121</td>\n",
       "      <td>137</td>\n",
       "      <td>254</td>\n",
       "    </tr>\n",
       "  </tbody>\n",
       "</table>\n",
       "</div>"
      ],
      "text/plain": [
       "                                                shape_dims  texture_dims  \\\n",
       "SupCon_animals10_diff_-1+stylized_cAugSameSAug         121           137   \n",
       "\n",
       "                                                remaining_dims  \n",
       "SupCon_animals10_diff_-1+stylized_cAugSameSAug             254  "
      ]
     },
     "execution_count": 7,
     "metadata": {},
     "output_type": "execute_result"
    }
   ],
   "source": [
    "df_dimensions = ut_sb.corelation_coefficient_shape_bias_metric_from_cue_conflict_dataset_for_many(models_dict, dataset_cue_conflict, cuda_device)\n",
    "ut_sb.save_correlation_coefficient_shape_bias_to_csv_file_for_many(models_dict, df_dimensions, dataset_dict={\"cue_conflict\": dataset_cue_conflict})\n",
    "\n",
    "for m in models_dict:\n",
    "    root_model, _ = models_dict[m]\n",
    "    path_folder, _ = ut_val.get_paths_from_model_checkpoint(root_model)\n",
    "    create_shape_bias_md(path_folder)\n",
    "\n",
    "df_dimensions"
   ]
  },
  {
   "cell_type": "markdown",
   "metadata": {},
   "source": [
    "-----"
   ]
  },
  {
   "cell_type": "code",
   "execution_count": 8,
   "metadata": {},
   "outputs": [
    {
     "name": "stderr",
     "output_type": "stream",
     "text": [
      "100%|██████████| 202/202 [01:00<00:00,  3.31it/s]\n",
      "100%|██████████| 202/202 [01:01<00:00,  3.30it/s]\n"
     ]
    },
    {
     "data": {
      "text/html": [
       "<div>\n",
       "<style scoped>\n",
       "    .dataframe tbody tr th:only-of-type {\n",
       "        vertical-align: middle;\n",
       "    }\n",
       "\n",
       "    .dataframe tbody tr th {\n",
       "        vertical-align: top;\n",
       "    }\n",
       "\n",
       "    .dataframe thead th {\n",
       "        text-align: right;\n",
       "    }\n",
       "</style>\n",
       "<table border=\"1\" class=\"dataframe\">\n",
       "  <thead>\n",
       "    <tr style=\"text-align: right;\">\n",
       "      <th></th>\n",
       "      <th>shape_dims</th>\n",
       "      <th>texture_dims</th>\n",
       "      <th>remaining_dims</th>\n",
       "    </tr>\n",
       "  </thead>\n",
       "  <tbody>\n",
       "    <tr>\n",
       "      <th>SupCon_animals10_diff_-1+stylized_cAugSameSAug</th>\n",
       "      <td>160</td>\n",
       "      <td>119</td>\n",
       "      <td>233</td>\n",
       "    </tr>\n",
       "  </tbody>\n",
       "</table>\n",
       "</div>"
      ],
      "text/plain": [
       "                                                shape_dims  texture_dims  \\\n",
       "SupCon_animals10_diff_-1+stylized_cAugSameSAug         160           119   \n",
       "\n",
       "                                                remaining_dims  \n",
       "SupCon_animals10_diff_-1+stylized_cAugSameSAug             233  "
      ]
     },
     "execution_count": 8,
     "metadata": {},
     "output_type": "execute_result"
    }
   ],
   "source": [
    "df_dimensions = ut_sb.corelation_coefficient_shape_bias_metric_for_many(models_dict, dataset_orig, dataset_diff, cuda_device, separate_color=False, apply_ColorJitter=[\"shape\"])\n",
    "ut_sb.save_correlation_coefficient_shape_bias_to_csv_file_for_many(models_dict, df_dimensions, dataset_dict={\"shape\": dataset_diff, \"texture\": dataset_orig},\n",
    "                                                                   apply_ColorJitter=[\"shape\"])\n",
    "\n",
    "for m in models_dict:\n",
    "    root_model, _ = models_dict[m]\n",
    "    path_folder, _ = ut_val.get_paths_from_model_checkpoint(root_model)\n",
    "    create_shape_bias_md(path_folder)\n",
    "\n",
    "df_dimensions"
   ]
  },
  {
   "cell_type": "code",
   "execution_count": 9,
   "metadata": {},
   "outputs": [
    {
     "name": "stderr",
     "output_type": "stream",
     "text": [
      "100%|██████████| 202/202 [01:01<00:00,  3.31it/s]\n",
      "100%|██████████| 202/202 [02:01<00:00,  1.66it/s]\n"
     ]
    },
    {
     "data": {
      "text/html": [
       "<div>\n",
       "<style scoped>\n",
       "    .dataframe tbody tr th:only-of-type {\n",
       "        vertical-align: middle;\n",
       "    }\n",
       "\n",
       "    .dataframe tbody tr th {\n",
       "        vertical-align: top;\n",
       "    }\n",
       "\n",
       "    .dataframe thead th {\n",
       "        text-align: right;\n",
       "    }\n",
       "</style>\n",
       "<table border=\"1\" class=\"dataframe\">\n",
       "  <thead>\n",
       "    <tr style=\"text-align: right;\">\n",
       "      <th></th>\n",
       "      <th>shape_dims</th>\n",
       "      <th>texture_dims</th>\n",
       "      <th>color_dims</th>\n",
       "      <th>remaining_dims</th>\n",
       "    </tr>\n",
       "  </thead>\n",
       "  <tbody>\n",
       "    <tr>\n",
       "      <th>SupCon_animals10_diff_-1+stylized_cAugSameSAug</th>\n",
       "      <td>137</td>\n",
       "      <td>101</td>\n",
       "      <td>74</td>\n",
       "      <td>200</td>\n",
       "    </tr>\n",
       "  </tbody>\n",
       "</table>\n",
       "</div>"
      ],
      "text/plain": [
       "                                                shape_dims  texture_dims  \\\n",
       "SupCon_animals10_diff_-1+stylized_cAugSameSAug         137           101   \n",
       "\n",
       "                                                color_dims  remaining_dims  \n",
       "SupCon_animals10_diff_-1+stylized_cAugSameSAug          74             200  "
      ]
     },
     "execution_count": 9,
     "metadata": {},
     "output_type": "execute_result"
    }
   ],
   "source": [
    "df_dimensions = ut_sb.corelation_coefficient_shape_bias_metric_for_many(models_dict, dataset_orig, dataset_diff, cuda_device, separate_color=True, apply_ColorJitter=[\"shape\", \"texture\"])\n",
    "ut_sb.save_correlation_coefficient_shape_bias_to_csv_file_for_many(models_dict, df_dimensions, dataset_dict={\"shape\": dataset_diff, \"texture\": dataset_orig, \"color\": dataset_orig},\n",
    "                                                                   apply_ColorJitter=[\"shape\", \"texture\"])\n",
    "\n",
    "for m in models_dict:\n",
    "    root_model, _ = models_dict[m]\n",
    "    path_folder, _ = ut_val.get_paths_from_model_checkpoint(root_model)\n",
    "    create_shape_bias_md(path_folder)\n",
    "\n",
    "df_dimensions"
   ]
  },
  {
   "cell_type": "markdown",
   "metadata": {},
   "source": [
    "-----------\n",
    "\n",
    "#### Experiments"
   ]
  },
  {
   "cell_type": "code",
   "execution_count": 30,
   "metadata": {},
   "outputs": [
    {
     "name": "stderr",
     "output_type": "stream",
     "text": [
      "100%|██████████| 202/202 [00:53<00:00,  3.79it/s]\n",
      "100%|██████████| 202/202 [01:00<00:00,  3.33it/s]\n"
     ]
    }
   ],
   "source": [
    "import numpy as np\n",
    "\n",
    "model_short_name = \"SupCon_20.0_animals10_diff_-1+4000_cAugSameSAug\"\n",
    "\n",
    "root_model = models_dict[model_short_name][0]\n",
    "\n",
    "embedding_orig, embedding_shape, embedding_texture, class_labels = ut_sb.compute_load_orig_shape_texture_embeddings(root_model, dataset_orig, dataset_shape, cuda_device, separate_color=False, apply_ColorJitter=[])\n",
    "corr_coef_shape = ut_sb.compute_dim_correlation_coefficients(embedding_orig, embedding_shape)\n",
    "corr_coef_texture = ut_sb.compute_dim_correlation_coefficients(embedding_orig, embedding_texture)"
   ]
  },
  {
   "cell_type": "code",
   "execution_count": 71,
   "metadata": {},
   "outputs": [
    {
     "name": "stderr",
     "output_type": "stream",
     "text": [
      "100%|██████████| 897/897 [04:06<00:00,  3.64it/s]\n"
     ]
    }
   ],
   "source": [
    "model_short_name = \"SupCon_20.0_animals10_diff_-1+4000_cAugSameSAug\"\n",
    "\n",
    "root_model = models_dict[model_short_name][0]\n",
    "\n",
    "embedding, _, _, _, shapeName_textureName_list = ut_sb.compute_cue_conflict_embeddings(root_model, dataset_cue_conflict, cuda_device)\n",
    "\n",
    "# determent the shape and texture pairs in the cue conflict embedding\n",
    "shape_pairs = []\n",
    "shape_array = np.array([sN for sN,_ in shapeName_textureName_list])\n",
    "for sN in set(shape_array):\n",
    "    shape_indices = np.where(shape_array == sN)[0]\n",
    "    shape_pairs.append(shape_indices)\n",
    "\n",
    "shape_pair_A = np.concatenate([np.tile(shape_pairs[i], reps=len(shape_pairs[i])-1) for i in range(len(shape_pairs))])\n",
    "shape_pair_B = np.concatenate([np.concatenate([np.roll(shape_pairs[i], shift=j) for j in range(1,len(shape_pairs[i]))]) for i in range(len(shape_pairs))])\n",
    "\n",
    "texture_pairs = []\n",
    "texture_array = np.array([tN for _,tN in shapeName_textureName_list])\n",
    "for tN in set(texture_array):\n",
    "    texture_indices = np.where(texture_array == tN)[0]\n",
    "    texture_pairs.append(texture_indices)\n",
    "\n",
    "texture_pair_A = np.concatenate([np.tile(texture_pairs[i], reps=len(texture_pairs[i])-1) for i in range(len(texture_pairs))])\n",
    "texture_pair_B = np.concatenate([np.concatenate([np.roll(texture_pairs[i], shift=j) for j in range(1,len(texture_pairs[i]))]) for i in range(len(texture_pairs))])\n",
    "\n",
    "corr_coef_shape_2 = ut_sb.compute_dim_correlation_coefficients(embedding[shape_pair_A], embedding[shape_pair_B])\n",
    "corr_coef_texture_2 = ut_sb.compute_dim_correlation_coefficients(embedding[texture_pair_A], embedding[texture_pair_B])"
   ]
  },
  {
   "cell_type": "code",
   "execution_count": 185,
   "metadata": {},
   "outputs": [
    {
     "name": "stderr",
     "output_type": "stream",
     "text": [
      "100%|██████████| 202/202 [01:01<00:00,  3.31it/s]\n",
      "100%|██████████| 202/202 [01:01<00:00,  3.30it/s]\n"
     ]
    }
   ],
   "source": [
    "model_short_name = \"SupCon_20.0_animals10_diff_-1+4000_cAugSameSAug\"\n",
    "\n",
    "root_model = models_dict[model_short_name][0]\n",
    "\n",
    "_, embedding_diff_4000, _, class_labels = ut_sb.compute_load_orig_shape_texture_embeddings(root_model, dataset_orig, \"animals10_diff_4000\", cuda_device, separate_color=False, apply_ColorJitter=[\"shape\"])\n",
    "corr_coef_diff_4000 = ut_sb.compute_dim_correlation_coefficients(embedding_orig, embedding_diff_4000)"
   ]
  },
  {
   "cell_type": "code",
   "execution_count": 201,
   "metadata": {},
   "outputs": [
    {
     "name": "stdout",
     "output_type": "stream",
     "text": [
      "A: shape: 230, texture: 282   [128, 131, 253]\n",
      "\n",
      "B: shape: 36, texture: 476   [104, 157, 251]\n",
      "\n",
      "ABCD: shape: 13, texture: 249\n",
      "\n",
      "E: shape: 512, texture: 0   [198, 107, 207]\n",
      "\n",
      "ABCDEF: shape: 13, texture: 0\n"
     ]
    }
   ],
   "source": [
    "eps = 0.0\n",
    "\n",
    "argsort_shape = np.argsort(corr_coef_shape)\n",
    "argsort_texture = np.argsort(corr_coef_texture)\n",
    "\n",
    "argsort_shape_2 = np.argsort(corr_coef_shape_2)\n",
    "argsort_texture_2 = np.argsort(corr_coef_texture_2)\n",
    "\n",
    "argsort_diff_4000 = np.argsort(corr_coef_diff_4000)\n",
    "\n",
    "larger_shape_corr_coef_A = (corr_coef_shape - eps > corr_coef_texture).astype(int)\n",
    "larger_shape_corr_coef_B = (corr_coef_shape_2 - eps > corr_coef_texture_2).astype(int)\n",
    "larger_shape_corr_coef_C = (corr_coef_shape - eps > corr_coef_texture_2).astype(int)\n",
    "larger_shape_corr_coef_D = (corr_coef_shape_2 - eps > corr_coef_texture).astype(int)\n",
    "larger_shape_corr_coef_E = (corr_coef_diff_4000 - eps > corr_coef_texture).astype(int)\n",
    "larger_shape_corr_coef_F = (corr_coef_diff_4000 - eps > corr_coef_texture_2).astype(int)\n",
    "\n",
    "larger_texture_corr_coef_A = (corr_coef_shape + eps < corr_coef_texture).astype(int)\n",
    "larger_texture_corr_coef_B = (corr_coef_shape_2 + eps < corr_coef_texture_2).astype(int)\n",
    "larger_texture_corr_coef_C = (corr_coef_shape + eps < corr_coef_texture_2).astype(int)\n",
    "larger_texture_corr_coef_D = (corr_coef_shape_2 + eps < corr_coef_texture).astype(int)\n",
    "larger_texture_corr_coef_E = (corr_coef_diff_4000 + eps < corr_coef_texture).astype(int)\n",
    "larger_texture_corr_coef_F = (corr_coef_diff_4000 + eps < corr_coef_texture_2).astype(int)\n",
    "\n",
    "shape_larger_A = (larger_shape_corr_coef_A == 1).sum()\n",
    "texture_larger_A = (larger_texture_corr_coef_A == 1).sum()\n",
    "\n",
    "shape_larger_B = (larger_shape_corr_coef_B == 1).sum()\n",
    "texture_larger_B = (larger_texture_corr_coef_B == 1).sum()\n",
    "\n",
    "shape_larger_ABCD = (larger_shape_corr_coef_A + larger_shape_corr_coef_B + larger_shape_corr_coef_C + larger_shape_corr_coef_D == 4).sum()\n",
    "texture_larger_ABCD = (larger_texture_corr_coef_A + larger_texture_corr_coef_B + larger_texture_corr_coef_C + larger_texture_corr_coef_D == 4).sum()\n",
    "\n",
    "shape_larger_E = (larger_shape_corr_coef_E == 1).sum()\n",
    "texture_larger_E = (larger_texture_corr_coef_E == 1).sum()\n",
    "\n",
    "shape_larger_ABCDEF = (larger_shape_corr_coef_A + larger_shape_corr_coef_B + larger_shape_corr_coef_C + larger_shape_corr_coef_D + larger_shape_corr_coef_E +larger_shape_corr_coef_F == 6).sum()\n",
    "texture_larger_ABCDEF = (larger_texture_corr_coef_A + larger_texture_corr_coef_B + larger_texture_corr_coef_C + larger_texture_corr_coef_D + larger_texture_corr_coef_E + larger_texture_corr_coef_F == 6).sum()\n",
    "\n",
    "print(f\"A: shape: {shape_larger_A}, texture: {texture_larger_A}   {ut_sb.estimate_dims([corr_coef_shape, corr_coef_texture])}\")\n",
    "\n",
    "print(f\"\\nB: shape: {shape_larger_B}, texture: {texture_larger_B}   {ut_sb.estimate_dims([corr_coef_shape_2, corr_coef_texture_2])}\")\n",
    "\n",
    "print(f\"\\nABCD: shape: {shape_larger_ABCD}, texture: {texture_larger_ABCD}\")\n",
    "\n",
    "print(f\"\\nE: shape: {shape_larger_E}, texture: {texture_larger_E}   {ut_sb.estimate_dims([corr_coef_diff_4000, corr_coef_texture])}\")\n",
    "\n",
    "print(f\"\\nABCDEF: shape: {shape_larger_ABCDEF}, texture: {texture_larger_ABCDEF}\")"
   ]
  },
  {
   "cell_type": "markdown",
   "metadata": {},
   "source": [
    "### Feature Embedding Distances"
   ]
  },
  {
   "cell_type": "code",
   "execution_count": 10,
   "metadata": {},
   "outputs": [
    {
     "name": "stderr",
     "output_type": "stream",
     "text": [
      "100%|██████████| 202/202 [01:00<00:00,  3.34it/s]\n",
      "100%|██████████| 10/10 [00:08<00:00,  1.13it/s]\n",
      "100%|██████████| 10/10 [00:08<00:00,  1.12it/s]\n",
      "100%|██████████| 5236/5236 [01:24<00:00, 62.06it/s]\n",
      "100%|██████████| 5236/5236 [01:21<00:00, 64.35it/s]\n"
     ]
    },
    {
     "data": {
      "text/html": [
       "<div>\n",
       "<style scoped>\n",
       "    .dataframe tbody tr th:only-of-type {\n",
       "        vertical-align: middle;\n",
       "    }\n",
       "\n",
       "    .dataframe tbody tr th {\n",
       "        vertical-align: top;\n",
       "    }\n",
       "\n",
       "    .dataframe thead th {\n",
       "        text-align: right;\n",
       "    }\n",
       "</style>\n",
       "<table border=\"1\" class=\"dataframe\">\n",
       "  <thead>\n",
       "    <tr style=\"text-align: right;\">\n",
       "      <th></th>\n",
       "      <th>SupCon_animals10_diff_-1+stylized_cAugSameSAug</th>\n",
       "    </tr>\n",
       "  </thead>\n",
       "  <tbody>\n",
       "    <tr>\n",
       "      <th>mean_distance_related</th>\n",
       "      <td>0.200796</td>\n",
       "    </tr>\n",
       "    <tr>\n",
       "      <th>std_distance_related</th>\n",
       "      <td>0.084277</td>\n",
       "    </tr>\n",
       "    <tr>\n",
       "      <th>mean_distance_classes</th>\n",
       "      <td>0.310496</td>\n",
       "    </tr>\n",
       "    <tr>\n",
       "      <th>std_distance_classes</th>\n",
       "      <td>0.095756</td>\n",
       "    </tr>\n",
       "    <tr>\n",
       "      <th>mean_distance_all_vs_all</th>\n",
       "      <td>0.368281</td>\n",
       "    </tr>\n",
       "    <tr>\n",
       "      <th>std_distance_all_vs_all</th>\n",
       "      <td>0.089183</td>\n",
       "    </tr>\n",
       "    <tr>\n",
       "      <th>min_distance</th>\n",
       "      <td>0.006966</td>\n",
       "    </tr>\n",
       "    <tr>\n",
       "      <th>max_distance</th>\n",
       "      <td>0.906449</td>\n",
       "    </tr>\n",
       "  </tbody>\n",
       "</table>\n",
       "</div>"
      ],
      "text/plain": [
       "                          SupCon_animals10_diff_-1+stylized_cAugSameSAug\n",
       "mean_distance_related                                           0.200796\n",
       "std_distance_related                                            0.084277\n",
       "mean_distance_classes                                           0.310496\n",
       "std_distance_classes                                            0.095756\n",
       "mean_distance_all_vs_all                                        0.368281\n",
       "std_distance_all_vs_all                                         0.089183\n",
       "min_distance                                                    0.006966\n",
       "max_distance                                                    0.906449"
      ]
     },
     "execution_count": 10,
     "metadata": {},
     "output_type": "execute_result"
    }
   ],
   "source": [
    "df_distances = ut_sb.compute_distance_to_diff_for_many(models_dict, dataset_orig, dataset_diff, cuda_device, plot_hist=False)\n",
    "ut_sb.save_dist_to_csv_file_for_many(models_dict, df_distances, dataset_orig, dataset_diff)\n",
    "\n",
    "for m in models_dict:\n",
    "    root_model, _ = models_dict[m]\n",
    "    path_folder, _ = ut_val.get_paths_from_model_checkpoint(root_model)\n",
    "    create_distances_md(path_folder)\n",
    "\n",
    "df_distances"
   ]
  },
  {
   "cell_type": "markdown",
   "metadata": {},
   "source": [
    "#### Distance to stylized Images"
   ]
  },
  {
   "cell_type": "code",
   "execution_count": 11,
   "metadata": {},
   "outputs": [
    {
     "name": "stderr",
     "output_type": "stream",
     "text": [
      "100%|██████████| 10/10 [00:08<00:00,  1.14it/s]\n",
      "100%|██████████| 10/10 [00:09<00:00,  1.11it/s]\n",
      "100%|██████████| 5236/5236 [01:30<00:00, 57.79it/s]\n",
      "100%|██████████| 5236/5236 [01:18<00:00, 66.48it/s]\n"
     ]
    },
    {
     "data": {
      "text/html": [
       "<div>\n",
       "<style scoped>\n",
       "    .dataframe tbody tr th:only-of-type {\n",
       "        vertical-align: middle;\n",
       "    }\n",
       "\n",
       "    .dataframe tbody tr th {\n",
       "        vertical-align: top;\n",
       "    }\n",
       "\n",
       "    .dataframe thead th {\n",
       "        text-align: right;\n",
       "    }\n",
       "</style>\n",
       "<table border=\"1\" class=\"dataframe\">\n",
       "  <thead>\n",
       "    <tr style=\"text-align: right;\">\n",
       "      <th></th>\n",
       "      <th>SupCon_animals10_diff_-1+stylized_cAugSameSAug</th>\n",
       "    </tr>\n",
       "  </thead>\n",
       "  <tbody>\n",
       "    <tr>\n",
       "      <th>mean_distance_related</th>\n",
       "      <td>0.148838</td>\n",
       "    </tr>\n",
       "    <tr>\n",
       "      <th>std_distance_related</th>\n",
       "      <td>0.066344</td>\n",
       "    </tr>\n",
       "    <tr>\n",
       "      <th>mean_distance_classes</th>\n",
       "      <td>0.230146</td>\n",
       "    </tr>\n",
       "    <tr>\n",
       "      <th>std_distance_classes</th>\n",
       "      <td>0.077031</td>\n",
       "    </tr>\n",
       "    <tr>\n",
       "      <th>mean_distance_all_vs_all</th>\n",
       "      <td>0.297433</td>\n",
       "    </tr>\n",
       "    <tr>\n",
       "      <th>std_distance_all_vs_all</th>\n",
       "      <td>0.080495</td>\n",
       "    </tr>\n",
       "    <tr>\n",
       "      <th>min_distance</th>\n",
       "      <td>0.020998</td>\n",
       "    </tr>\n",
       "    <tr>\n",
       "      <th>max_distance</th>\n",
       "      <td>0.859733</td>\n",
       "    </tr>\n",
       "  </tbody>\n",
       "</table>\n",
       "</div>"
      ],
      "text/plain": [
       "                          SupCon_animals10_diff_-1+stylized_cAugSameSAug\n",
       "mean_distance_related                                           0.148838\n",
       "std_distance_related                                            0.066344\n",
       "mean_distance_classes                                           0.230146\n",
       "std_distance_classes                                            0.077031\n",
       "mean_distance_all_vs_all                                        0.297433\n",
       "std_distance_all_vs_all                                         0.080495\n",
       "min_distance                                                    0.020998\n",
       "max_distance                                                    0.859733"
      ]
     },
     "execution_count": 11,
     "metadata": {},
     "output_type": "execute_result"
    }
   ],
   "source": [
    "df_distances = ut_sb.compute_distance_to_diff_for_many(models_dict, dataset_orig, dataset_shape, cuda_device, plot_hist=False)\n",
    "ut_sb.save_dist_to_csv_file_for_many(models_dict, df_distances, dataset_orig, dataset_shape)\n",
    "\n",
    "for m in models_dict:\n",
    "    root_model, _ = models_dict[m]\n",
    "    path_folder, _ = ut_val.get_paths_from_model_checkpoint(root_model)\n",
    "    create_distances_md(path_folder)\n",
    "\n",
    "df_distances"
   ]
  },
  {
   "cell_type": "markdown",
   "metadata": {},
   "source": [
    "# Experiments"
   ]
  },
  {
   "cell_type": "code",
   "execution_count": 81,
   "metadata": {},
   "outputs": [],
   "source": [
    "import os\n",
    "import pickle\n",
    "import numpy as np\n",
    "import torch\n",
    "import matplotlib.pyplot as plt\n",
    "import seaborn\n",
    "from torch.utils.data import Dataset\n",
    "from tqdm import tqdm\n",
    "\n",
    "import util.util_validation as ut_val\n",
    "import util.util_shape_bias as ut_sb\n",
    "from util.util_logging import open_csv_file\n",
    "from util.util_pre_com_feat import IdentityWrapperNet\n",
    "\n",
    "seaborn.set_style(\"darkgrid\")"
   ]
  },
  {
   "cell_type": "code",
   "execution_count": 2,
   "metadata": {},
   "outputs": [
    {
     "name": "stdout",
     "output_type": "stream",
     "text": [
      "| model_name                                                             |\n",
      "|:-----------------------------------------------------------------------|\n",
      "| CE_animals10_diff_-1+4000_allAug                                       |\n",
      "| CE_animals10_diff_-1_allAug                                            |\n",
      "| CE_animals10_diff_4000_allAug                                          |\n",
      "| SupConHybrid_animals10_diff_-1+4000_cAug                               |\n",
      "| SupCon_20.0_animals10_diff_-1+4000_cAugSameSAug                        |\n",
      "| SupCon_5.0_animals10_diff_-1+4000_cAugSameSAug_factor5cAugSameSAug     |\n",
      "| SupCon_5.0_animals10_diff_-1+4000_cAugSameSAug_fineTuneCAsameSAFactor5 |\n",
      "| SupCon_animals10_diff_-1+4000_cAugSameSAug                             |\n",
      "| SupCon_animals10_diff_-1_allAug                                        |\n"
     ]
    }
   ],
   "source": [
    "exclude_params_dict = {\"tag\": [\"CropSize32\", \"divergent\", \"toSlow\", \"lrAdjust1\", \"lrAdjust2\", \"noCosine\", \"bszAdjust1\"]}\n",
    "keep_params_dict = {\"aug\": [\"colorJitter\", \"grayscale\"]}\n",
    "models_dict, df_modelNames = ut_val.collect_models_dict(epoch=\"last\", dataset_classifier=\"\", exclude_params_dict=exclude_params_dict, keep_params_dict=keep_params_dict)\n",
    "print(df_modelNames.to_markdown(index=False))"
   ]
  },
  {
   "cell_type": "code",
   "execution_count": 13,
   "metadata": {},
   "outputs": [],
   "source": [
    "cuda_device = 1\n",
    "\n",
    "dataset_cue_conflict = \"shape_texture_conflict_animals10_many\"\n",
    "\n",
    "dataset_orig = \"animals10_diff_-1\"\n",
    "dataset_shape = \"stylized_animals10\"\n",
    "dataset_diff = \"animals10_diff_4000\""
   ]
  },
  {
   "cell_type": "code",
   "execution_count": 125,
   "metadata": {},
   "outputs": [],
   "source": [
    "model_short_name = \"SupCon_5.0_animals10_diff_-1+4000_cAugSameSAug_factor5cAugSameSAug\"\n",
    "\n",
    "root_model, dataset_classifier = models_dict[model_short_name]"
   ]
  },
  {
   "cell_type": "markdown",
   "metadata": {},
   "source": [
    "## Analyse Cue Conflict Predictions"
   ]
  },
  {
   "cell_type": "code",
   "execution_count": 43,
   "metadata": {},
   "outputs": [],
   "source": [
    "class featureEmbeddingDataset(Dataset):\n",
    "\n",
    "    def __init__(self, root=None, data=None, targets=None):\n",
    "        \n",
    "        if root is not None:\n",
    "            assert data is None and targets is None\n",
    "            with open(root, 'rb') as f:\n",
    "                entry = pickle.load(f, encoding='latin1')\n",
    "                self.data = entry['data']\n",
    "                self.targets = entry['labels']\n",
    "        else:\n",
    "            assert data is not None and targets is not None\n",
    "            assert 1 <= len(targets.shape) <= 2\n",
    "            self.data = data\n",
    "            self.targets = targets\n",
    "\n",
    "    def __len__(self):\n",
    "        return len(self.data)\n",
    "    \n",
    "    def __getitem__(self, index):\n",
    "\n",
    "        feature = torch.from_numpy(self.data[index])\n",
    "        if len(self.targets.shape) == 1:\n",
    "            target = self.targets[index]\n",
    "        else:\n",
    "            target = []\n",
    "            for j in range(self.targets.shape[1]):\n",
    "                target.append(self.targets[index,j])\n",
    "\n",
    "        return feature, target"
   ]
  },
  {
   "cell_type": "code",
   "execution_count": 126,
   "metadata": {},
   "outputs": [
    {
     "name": "stderr",
     "output_type": "stream",
     "text": [
      "100%|██████████| 897/897 [09:03<00:00,  1.65it/s]\n"
     ]
    }
   ],
   "source": [
    "embedding_cue_conf, shape_labels, texture_labels, classes, shapeName_textureName_list = ut_sb.compute_cue_conflict_embeddings(root_model, dataset_cue_conflict, cuda_device)"
   ]
  },
  {
   "cell_type": "code",
   "execution_count": 127,
   "metadata": {},
   "outputs": [],
   "source": [
    "labels = np.stack((shape_labels, texture_labels), axis=-1)\n",
    "\n",
    "shapeName_list = [stn[0] for stn in shapeName_textureName_list]\n",
    "textureName_list = [stn[1] for stn in shapeName_textureName_list]\n",
    "\n",
    "distinct_shape_names = sorted(set(shapeName_list))\n",
    "distinct_texture_names = sorted(set(textureName_list))"
   ]
  },
  {
   "cell_type": "code",
   "execution_count": 130,
   "metadata": {},
   "outputs": [
    {
     "name": "stderr",
     "output_type": "stream",
     "text": [
      "  0%|          | 0/92 [00:00<?, ?it/s]"
     ]
    },
    {
     "name": "stderr",
     "output_type": "stream",
     "text": [
      "100%|██████████| 92/92 [00:00<00:00, 107.51it/s]\n"
     ]
    }
   ],
   "source": [
    "conflict_dataset = featureEmbeddingDataset(data=embedding_cue_conf, targets=labels)\n",
    "conflict_dataloader = torch.utils.data.DataLoader(conflict_dataset, batch_size=256, shuffle=False, num_workers=16, pin_memory=True)\n",
    "\n",
    "path_folder, _ = ut_val.get_paths_from_model_checkpoint(root_model)\n",
    "params = open_csv_file(os.path.join(path_folder, \"params.csv\"))\n",
    "\n",
    "if \"method\" in params:\n",
    "    path_classifier = ut_val.get_path_classifier(root_model, dataset_classifier, params)\n",
    "    classifier = ut_val.load_classifier_checkpoint(path_classifier, params[\"model\"], len(classes), cuda_device)\n",
    "else:\n",
    "    model = ut_val.set_model(root_model, params, cuda_device)\n",
    "    classifier = model.fc\n",
    "\n",
    "identity_model = IdentityWrapperNet()\n",
    "\n",
    "df_pred = ut_val.shape_texture_predictions(identity_model, classifier, conflict_dataloader, cuda_device)\n",
    "\n",
    "\n",
    "df_pred[\"shape_img\"] = shapeName_list\n",
    "df_pred[\"texture_img\"] = textureName_list"
   ]
  },
  {
   "cell_type": "code",
   "execution_count": 132,
   "metadata": {},
   "outputs": [
    {
     "name": "stderr",
     "output_type": "stream",
     "text": [
      "100%|██████████| 2590/2590 [00:09<00:00, 265.24it/s]\n",
      "/tmp/ipykernel_46770/858080359.py:12: RuntimeWarning: invalid value encountered in divide\n",
      "  shannon_equitability_index_s = np.array(shannon_diversity_index_s) / np.log(number_of_unique_preds_s)\n"
     ]
    }
   ],
   "source": [
    "number_of_unique_preds_s = []\n",
    "shannon_diversity_index_s = []\n",
    "for sn in tqdm(distinct_shape_names):\n",
    "    df_sn = df_pred[df_pred.shape_img == sn]\n",
    "    frequencies = df_sn.groupby(\"pred_class\").count()[\"shape_img\"].values\n",
    "\n",
    "    number_of_unique_preds_s.append(len(frequencies))\n",
    "\n",
    "    probabilities = frequencies / frequencies.sum()\n",
    "    shannon_diversity_index_s.append(-np.sum(probabilities * np.log(probabilities)))\n",
    "\n",
    "shannon_equitability_index_s = np.array(shannon_diversity_index_s) / np.log(number_of_unique_preds_s)\n",
    "shannon_equitability_index_s = np.nan_to_num(shannon_equitability_index_s)"
   ]
  },
  {
   "cell_type": "code",
   "execution_count": 135,
   "metadata": {},
   "outputs": [
    {
     "name": "stderr",
     "output_type": "stream",
     "text": [
      "  0%|          | 0/225 [00:00<?, ?it/s]"
     ]
    },
    {
     "name": "stderr",
     "output_type": "stream",
     "text": [
      "100%|██████████| 225/225 [00:00<00:00, 237.71it/s]\n",
      "/tmp/ipykernel_46770/225689415.py:12: RuntimeWarning: invalid value encountered in divide\n",
      "  shannon_equitability_index_t = np.array(shannon_diversity_index_t) / np.log(number_of_unique_preds_t)\n"
     ]
    }
   ],
   "source": [
    "number_of_unique_preds_t = []\n",
    "shannon_diversity_index_t = []\n",
    "for tn in tqdm(distinct_texture_names):\n",
    "    df_tn = df_pred[df_pred.texture_img == tn]\n",
    "    frequencies = df_tn.groupby(\"pred_class\").count()[\"texture_img\"].values\n",
    "\n",
    "    number_of_unique_preds_t.append(len(frequencies))\n",
    "\n",
    "    probabilities = frequencies / frequencies.sum()\n",
    "    shannon_diversity_index_t.append(-np.sum(probabilities * np.log(probabilities)))\n",
    "\n",
    "shannon_equitability_index_t = np.array(shannon_diversity_index_t) / np.log(number_of_unique_preds_t)\n",
    "shannon_equitability_index_t = np.nan_to_num(shannon_equitability_index_t)"
   ]
  },
  {
   "cell_type": "code",
   "execution_count": 136,
   "metadata": {},
   "outputs": [
    {
     "data": {
      "text/plain": [
       "(-0.01, 1.01)"
      ]
     },
     "execution_count": 136,
     "metadata": {},
     "output_type": "execute_result"
    },
    {
     "data": {
      "image/png": "[encoded data removed]",
      "text/plain": [
       "<Figure size 1400x600 with 2 Axes>"
      ]
     },
     "metadata": {},
     "output_type": "display_data"
    }
   ],
   "source": [
    "fig, axs = plt.subplots(ncols=2, figsize=(14,6))\n",
    "\n",
    "axs[0].plot(np.sort(shannon_equitability_index_s))\n",
    "axs[0].set_title(\"Shape: Shannon Equitability Index [SupConFactor5]\")\n",
    "axs[0].set_ylim(-0.01,1.01)\n",
    "\n",
    "axs[1].plot(np.sort(shannon_equitability_index_t))\n",
    "axs[1].set_title(\"Texture: Shannon Equitability Index [SupConFactor5]\")\n",
    "axs[1].set_ylim(-0.01,1.01)"
   ]
  },
  {
   "cell_type": "code",
   "execution_count": 122,
   "metadata": {},
   "outputs": [
    {
     "data": {
      "text/plain": [
       "(-0.01, 1.01)"
      ]
     },
     "execution_count": 122,
     "metadata": {},
     "output_type": "execute_result"
    },
    {
     "data": {
      "image/png": "[encoded data removed]",
      "text/plain": [
       "<Figure size 1400x600 with 2 Axes>"
      ]
     },
     "metadata": {},
     "output_type": "display_data"
    }
   ],
   "source": [
    "fig, axs = plt.subplots(ncols=2, figsize=(14,6))\n",
    "\n",
    "axs[0].plot(np.sort(shannon_equitability_index_s))\n",
    "axs[0].set_title(\"Shape: Shannon Equitability Index [CE_orig]\")\n",
    "axs[0].set_ylim(-0.01,1.01)\n",
    "\n",
    "axs[1].plot(np.sort(shannon_equitability_index_t))\n",
    "axs[1].set_title(\"Texture: Shannon Equitability Index [CE_orig]\")\n",
    "axs[1].set_ylim(-0.01,1.01)"
   ]
  }
 ],
 "metadata": {
  "kernelspec": {
   "display_name": "pytorch_venv",
   "language": "python",
   "name": "python3"
  },
  "language_info": {
   "codemirror_mode": {
    "name": "ipython",
    "version": 3
   },
   "file_extension": ".py",
   "mimetype": "text/x-python",
   "name": "python",
   "nbconvert_exporter": "python",
   "pygments_lexer": "ipython3",
   "version": "3.9.5"
  }
 },
 "nbformat": 4,
 "nbformat_minor": 2
}
