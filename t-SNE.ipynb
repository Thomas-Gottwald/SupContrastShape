{
 "cells": [
  {
   "cell_type": "code",
   "execution_count": 4,
   "metadata": {},
   "outputs": [],
   "source": [
    "import torch\n",
    "import numpy as np\n",
    "import pandas as pd\n",
    "from torchvision import transforms, datasets\n",
    "from tqdm import tqdm\n",
    "\n",
    "from tsne import tsne\n",
    "from networks.resnet_big import SupConResNet"
   ]
  },
  {
   "cell_type": "code",
   "execution_count": 5,
   "metadata": {},
   "outputs": [
    {
     "name": "stdout",
     "output_type": "stream",
     "text": [
      "Files already downloaded and verified\n"
     ]
    }
   ],
   "source": [
    "# cifar10\n",
    "mean = (0.4914, 0.4822, 0.4465)\n",
    "std = (0.2023, 0.1994, 0.2010)\n",
    "\n",
    "normalize = transforms.Normalize(mean=mean, std=std)\n",
    "\n",
    "val_transform = transforms.Compose([\n",
    "    transforms.ToTensor(),\n",
    "    normalize,\n",
    "])\n",
    "\n",
    "train_dataset = datasets.CIFAR10(root=\"./datasets/\",\n",
    "                                    transform=val_transform,\n",
    "                                    download=True)\n",
    "val_dataset = datasets.CIFAR10(root=\"./datasets/\",\n",
    "                                train=False,\n",
    "                                transform=val_transform)\n",
    "\n",
    "train_sampler = None\n",
    "train_loader = torch.utils.data.DataLoader(\n",
    "    train_dataset, batch_size=252, shuffle=(train_sampler is None),\n",
    "    num_workers=16, pin_memory=True, sampler=train_sampler)\n",
    "val_loader = torch.utils.data.DataLoader(\n",
    "    val_dataset, batch_size=256, shuffle=False,\n",
    "    num_workers=8, pin_memory=True)"
   ]
  },
  {
   "cell_type": "code",
   "execution_count": 6,
   "metadata": {},
   "outputs": [
    {
     "data": {
      "text/plain": [
       "<All keys matched successfully>"
      ]
     },
     "execution_count": 6,
     "metadata": {},
     "output_type": "execute_result"
    }
   ],
   "source": [
    "cuda_device = 1\n",
    "\n",
    "model = SupConResNet(name=\"resnet50\")\n",
    "\n",
    "\n",
    "ckpt = torch.load(\"./save/SupCon/cifar10_models/SupCon_cifar10_resnet50_lr_0.5_decay_0.0001_bsz_400_temp_0.1_trial_0_cosine_warm/ckpt_epoch_300.pth\", map_location='cpu')\n",
    "state_dict = ckpt['model']\n",
    "\n",
    "new_state_dict = {}\n",
    "for k, v in state_dict.items():\n",
    "    k = k.replace(\"module.\", \"\")\n",
    "    new_state_dict[k] = v\n",
    "state_dict = new_state_dict\n",
    "\n",
    "\n",
    "model = model.cuda(device=cuda_device)\n",
    "\n",
    "model.load_state_dict(state_dict)"
   ]
  },
  {
   "cell_type": "code",
   "execution_count": 14,
   "metadata": {},
   "outputs": [
    {
     "name": "stderr",
     "output_type": "stream",
     "text": [
      "  0%|          | 0/199 [00:00<?, ?it/s]"
     ]
    },
    {
     "name": "stderr",
     "output_type": "stream",
     "text": [
      "  3%|▎         | 5/199 [00:05<03:20,  1.03s/it]\n"
     ]
    }
   ],
   "source": [
    "embedding = np.array([])\n",
    "class_labels = np.array([], dtype=int)\n",
    "\n",
    "model.eval()\n",
    "\n",
    "for idx, (images, labels) in enumerate(tqdm(train_loader)):\n",
    "    \n",
    "    images = images.cuda(device=cuda_device, non_blocking=True)\n",
    "\n",
    "    with torch.no_grad():\n",
    "        features = model.encoder(images)\n",
    "\n",
    "    embedding = np.append(embedding, features.cpu().numpy().reshape(-1, 2048))\n",
    "    class_labels = np.append(class_labels, labels.numpy())\n",
    "    \n",
    "    if idx == 5:\n",
    "        break\n",
    "\n",
    "embedding = embedding.reshape(-1, 2048)"
   ]
  },
  {
   "cell_type": "code",
   "execution_count": 16,
   "metadata": {},
   "outputs": [
    {
     "name": "stdout",
     "output_type": "stream",
     "text": [
      "Preprocessing the data using PCA...\n",
      "Computing pairwise distances...\n",
      "Computing P-values for point 0 of 1512...\n",
      "Computing P-values for point 500 of 1512...\n",
      "Computing P-values for point 1000 of 1512...\n",
      "Computing P-values for point 1500 of 1512...\n",
      "Mean value of sigma: 0.665156\n",
      "Iteration 10: error is 18.441657\n",
      "Iteration 20: error is 14.579969\n",
      "Iteration 30: error is 12.299641\n",
      "Iteration 40: error is 11.514076\n",
      "Iteration 50: error is 11.281844\n",
      "Iteration 60: error is 11.145886\n",
      "Iteration 70: error is 11.042003\n",
      "Iteration 80: error is 10.948548\n",
      "Iteration 90: error is 10.878576\n",
      "Iteration 100: error is 10.822962\n",
      "Iteration 110: error is 1.009711\n",
      "Iteration 120: error is 0.937447\n",
      "Iteration 130: error is 0.868088\n",
      "Iteration 140: error is 0.811275\n",
      "Iteration 150: error is 0.760348\n",
      "Iteration 160: error is 0.715886\n",
      "Iteration 170: error is 0.678385\n",
      "Iteration 180: error is 0.647292\n",
      "Iteration 190: error is 0.621901\n",
      "Iteration 200: error is 0.601053\n",
      "Iteration 210: error is 0.583581\n",
      "Iteration 220: error is 0.568698\n",
      "Iteration 230: error is 0.555938\n",
      "Iteration 240: error is 0.544930\n",
      "Iteration 250: error is 0.535418\n",
      "Iteration 260: error is 0.527153\n",
      "Iteration 270: error is 0.519900\n",
      "Iteration 280: error is 0.513445\n",
      "Iteration 290: error is 0.507670\n",
      "Iteration 300: error is 0.502528\n",
      "Iteration 310: error is 0.497945\n",
      "Iteration 320: error is 0.493808\n",
      "Iteration 330: error is 0.490051\n",
      "Iteration 340: error is 0.486632\n",
      "Iteration 350: error is 0.483530\n",
      "Iteration 360: error is 0.480699\n",
      "Iteration 370: error is 0.478093\n",
      "Iteration 380: error is 0.475685\n",
      "Iteration 390: error is 0.473471\n",
      "Iteration 400: error is 0.471416\n",
      "Iteration 410: error is 0.469497\n",
      "Iteration 420: error is 0.467725\n",
      "Iteration 430: error is 0.466069\n",
      "Iteration 440: error is 0.464500\n",
      "Iteration 450: error is 0.463039\n",
      "Iteration 460: error is 0.461674\n",
      "Iteration 470: error is 0.460383\n",
      "Iteration 480: error is 0.459155\n",
      "Iteration 490: error is 0.457997\n",
      "Iteration 500: error is 0.456897\n",
      "Iteration 510: error is 0.455856\n",
      "Iteration 520: error is 0.454867\n",
      "Iteration 530: error is 0.453927\n",
      "Iteration 540: error is 0.453030\n",
      "Iteration 550: error is 0.452170\n",
      "Iteration 560: error is 0.451348\n",
      "Iteration 570: error is 0.450565\n",
      "Iteration 580: error is 0.449816\n",
      "Iteration 590: error is 0.449098\n",
      "Iteration 600: error is 0.448406\n",
      "Iteration 610: error is 0.447738\n",
      "Iteration 620: error is 0.447100\n",
      "Iteration 630: error is 0.446488\n",
      "Iteration 640: error is 0.445897\n",
      "Iteration 650: error is 0.445325\n",
      "Iteration 660: error is 0.444775\n",
      "Iteration 670: error is 0.444245\n",
      "Iteration 680: error is 0.443733\n",
      "Iteration 690: error is 0.443235\n",
      "Iteration 700: error is 0.442753\n",
      "Iteration 710: error is 0.442289\n",
      "Iteration 720: error is 0.441842\n",
      "Iteration 730: error is 0.441405\n",
      "Iteration 740: error is 0.440982\n",
      "Iteration 750: error is 0.440571\n",
      "Iteration 760: error is 0.440173\n",
      "Iteration 770: error is 0.439787\n",
      "Iteration 780: error is 0.439412\n",
      "Iteration 790: error is 0.439046\n",
      "Iteration 800: error is 0.438692\n",
      "Iteration 810: error is 0.438347\n",
      "Iteration 820: error is 0.438011\n",
      "Iteration 830: error is 0.437682\n",
      "Iteration 840: error is 0.437361\n",
      "Iteration 850: error is 0.437048\n",
      "Iteration 860: error is 0.436743\n",
      "Iteration 870: error is 0.436447\n",
      "Iteration 880: error is 0.436159\n",
      "Iteration 890: error is 0.435868\n",
      "Iteration 900: error is 0.435595\n",
      "Iteration 910: error is 0.435328\n",
      "Iteration 920: error is 0.435067\n",
      "Iteration 930: error is 0.434812\n",
      "Iteration 940: error is 0.434563\n",
      "Iteration 950: error is 0.434318\n",
      "Iteration 960: error is 0.434078\n",
      "Iteration 970: error is 0.433841\n",
      "Iteration 980: error is 0.433610\n",
      "Iteration 990: error is 0.433385\n",
      "Iteration 1000: error is 0.433165\n"
     ]
    }
   ],
   "source": [
    "tsne_embedding = tsne(embedding, no_dims=2, initial_dims=50, perplexity=30.0)"
   ]
  },
  {
   "cell_type": "code",
   "execution_count": 22,
   "metadata": {},
   "outputs": [
    {
     "data": {
      "text/plain": [
       "<Axes: xlabel='x', ylabel='y'>"
      ]
     },
     "execution_count": 22,
     "metadata": {},
     "output_type": "execute_result"
    },
    {
     "data": {
      "image/png": "[encoded data removed]",
      "text/plain": [
       "<Figure size 640x480 with 2 Axes>"
      ]
     },
     "metadata": {},
     "output_type": "display_data"
    }
   ],
   "source": [
    "df = pd.DataFrame.from_dict({'x': tsne_embedding[:,0], 'y': tsne_embedding[:,1], 'label': class_labels})\n",
    "df.plot.scatter(x='x', y='y', c='label', colormap='tab10')"
   ]
  }
 ],
 "metadata": {
  "kernelspec": {
   "display_name": "pytorch_venv",
   "language": "python",
   "name": "python3"
  },
  "language_info": {
   "codemirror_mode": {
    "name": "ipython",
    "version": 3
   },
   "file_extension": ".py",
   "mimetype": "text/x-python",
   "name": "python",
   "nbconvert_exporter": "python",
   "pygments_lexer": "ipython3",
   "version": "3.9.5"
  }
 },
 "nbformat": 4,
 "nbformat_minor": 2
}
