{
 "cells": [
  {
   "cell_type": "code",
   "execution_count": 7,
   "metadata": {},
   "outputs": [],
   "source": [
    "import util.util_validation as ut_val\n",
    "import util.util_shape_bias as ut_sb\n",
    "\n",
    "from util.util_logging import create_distances_md, create_shape_bias_md"
   ]
  },
  {
   "cell_type": "code",
   "execution_count": 20,
   "metadata": {},
   "outputs": [
    {
     "name": "stdout",
     "output_type": "stream",
     "text": [
      "| model_name                                                                            |\n",
      "|:--------------------------------------------------------------------------------------|\n",
      "| CE_animals10_diff_-1+4000_allAug                                                      |\n",
      "| CE_animals10_diff_-1+8000_allAug                                                      |\n",
      "| CE_animals10_diff_-1_allAug                                                           |\n",
      "| CE_animals10_diff_4000_allAug                                                         |\n",
      "| SupConHybrid_animals10_diff_-1+4000_cAug                                              |\n",
      "| SupCon_100.0_animals10_diff_-1+4000_cAugSameSAug_fineTuneCAsameSAFactor100            |\n",
      "| SupCon_100.0_animals10_diff_-1+4000_cAugSameSAug_fineTuneCAsameSAFactor100NoNormalize |\n",
      "| SupCon_20.0_animals10_diff_-1+4000_cAugSameSAug                                       |\n",
      "| SupCon_5.0_animals10_diff_-1+4000_cAugSameSAug_factor5cAugSameSAug                    |\n",
      "| SupCon_5.0_animals10_diff_-1+4000_cAugSameSAug_fineTuneCAsameSAFactor5                |\n",
      "| SupCon_animals10_diff_-1+4000_cAugSameSAug                                            |\n",
      "| SupCon_animals10_diff_-1+8000_cAugSameSAug                                            |\n",
      "| SupCon_animals10_diff_-1_allAug                                                       |\n"
     ]
    }
   ],
   "source": [
    "exclude_params_dict = {\"tag\": [\"CropSize32\", \"divergent\", \"toSlow\", \"lrAdjust1\", \"lrAdjust2\", \"noCosine\", \"bszAdjust1\"]}\n",
    "keep_params_dict = {\"aug\": [\"colorJitter\", \"grayscale\"]}\n",
    "models_dict, df_modelNames = ut_val.collect_models_dict(epoch=\"last\", dataset_classifier=\"\", exclude_params_dict=exclude_params_dict, keep_params_dict=keep_params_dict)\n",
    "print(df_modelNames.to_markdown(index=False))"
   ]
  },
  {
   "cell_type": "code",
   "execution_count": 17,
   "metadata": {},
   "outputs": [],
   "source": [
    "cuda_device = 1\n",
    "\n",
    "dataset_cue_conflict = \"shape_texture_conflict_animals10_many\"\n",
    "\n",
    "dataset_orig = \"animals10_diff_-1\"\n",
    "dataset_shape = \"stylized_animals10\"\n",
    "dataset_diff = \"animals10_diff_4000\""
   ]
  },
  {
   "cell_type": "markdown",
   "metadata": {},
   "source": [
    "## Validations"
   ]
  },
  {
   "cell_type": "markdown",
   "metadata": {},
   "source": [
    "### Cue Conflict Shape Bias"
   ]
  },
  {
   "cell_type": "code",
   "execution_count": 4,
   "metadata": {},
   "outputs": [
    {
     "name": "stdout",
     "output_type": "stream",
     "text": [
      "Get predictions for shape texture cue conflict dataset\n"
     ]
    },
    {
     "name": "stderr",
     "output_type": "stream",
     "text": [
      "100%|██████████| 897/897 [04:24<00:00,  3.39it/s]\n"
     ]
    },
    {
     "data": {
      "text/html": [
       "<div>\n",
       "<style scoped>\n",
       "    .dataframe tbody tr th:only-of-type {\n",
       "        vertical-align: middle;\n",
       "    }\n",
       "\n",
       "    .dataframe tbody tr th {\n",
       "        vertical-align: top;\n",
       "    }\n",
       "\n",
       "    .dataframe thead th {\n",
       "        text-align: right;\n",
       "    }\n",
       "</style>\n",
       "<table border=\"1\" class=\"dataframe\">\n",
       "  <thead>\n",
       "    <tr style=\"text-align: right;\">\n",
       "      <th></th>\n",
       "      <th>SupCon_100.0_animals10_diff_-1+4000_cAugSameSAug</th>\n",
       "    </tr>\n",
       "  </thead>\n",
       "  <tbody>\n",
       "    <tr>\n",
       "      <th>shape_bias</th>\n",
       "      <td>0.602688</td>\n",
       "    </tr>\n",
       "    <tr>\n",
       "      <th>shape_bias_b</th>\n",
       "      <td>0.602688</td>\n",
       "    </tr>\n",
       "    <tr>\n",
       "      <th>acc</th>\n",
       "      <td>0.261733</td>\n",
       "    </tr>\n",
       "    <tr>\n",
       "      <th>acc_b</th>\n",
       "      <td>0.261733</td>\n",
       "    </tr>\n",
       "    <tr>\n",
       "      <th>acc_shape</th>\n",
       "      <td>0.157743</td>\n",
       "    </tr>\n",
       "    <tr>\n",
       "      <th>acc_b_shape</th>\n",
       "      <td>0.157743</td>\n",
       "    </tr>\n",
       "    <tr>\n",
       "      <th>acc_texture</th>\n",
       "      <td>0.103990</td>\n",
       "    </tr>\n",
       "    <tr>\n",
       "      <th>acc_b_texture</th>\n",
       "      <td>0.103990</td>\n",
       "    </tr>\n",
       "  </tbody>\n",
       "</table>\n",
       "</div>"
      ],
      "text/plain": [
       "               SupCon_100.0_animals10_diff_-1+4000_cAugSameSAug\n",
       "shape_bias                                             0.602688\n",
       "shape_bias_b                                           0.602688\n",
       "acc                                                    0.261733\n",
       "acc_b                                                  0.261733\n",
       "acc_shape                                              0.157743\n",
       "acc_b_shape                                            0.157743\n",
       "acc_texture                                            0.103990\n",
       "acc_b_texture                                          0.103990"
      ]
     },
     "execution_count": 4,
     "metadata": {},
     "output_type": "execute_result"
    },
    {
     "data": {
      "image/png": "[encoded data removed]",
      "text/plain": [
       "<Figure size 640x480 with 1 Axes>"
      ]
     },
     "metadata": {},
     "output_type": "display_data"
    },
    {
     "data": {
      "image/png": "[encoded data removed]",
      "text/plain": [
       "<Figure size 640x480 with 1 Axes>"
      ]
     },
     "metadata": {},
     "output_type": "display_data"
    }
   ],
   "source": [
    "df_biases, class_biases = ut_sb.cue_conflict_shape_bias_metric_for_many(models_dict, dataset_cue_conflict, cuda_device)\n",
    "ut_sb.save_cue_conflict_shape_bias_to_csv_file_for_many(models_dict, df_biases, class_biases, dataset_cue_conflict, save_plots=True)\n",
    "\n",
    "for m in models_dict:\n",
    "    root_model, _ = models_dict[m]\n",
    "    path_folder, _ = ut_val.get_paths_from_model_checkpoint(root_model)\n",
    "    create_shape_bias_md(path_folder)\n",
    "\n",
    "df_biases"
   ]
  },
  {
   "cell_type": "markdown",
   "metadata": {},
   "source": [
    "### Correlation Coefficient Shape Bias"
   ]
  },
  {
   "cell_type": "code",
   "execution_count": 5,
   "metadata": {},
   "outputs": [
    {
     "name": "stderr",
     "output_type": "stream",
     "text": [
      "100%|██████████| 202/202 [00:56<00:00,  3.59it/s]\n",
      "100%|██████████| 202/202 [01:01<00:00,  3.29it/s]\n"
     ]
    },
    {
     "data": {
      "text/html": [
       "<div>\n",
       "<style scoped>\n",
       "    .dataframe tbody tr th:only-of-type {\n",
       "        vertical-align: middle;\n",
       "    }\n",
       "\n",
       "    .dataframe tbody tr th {\n",
       "        vertical-align: top;\n",
       "    }\n",
       "\n",
       "    .dataframe thead th {\n",
       "        text-align: right;\n",
       "    }\n",
       "</style>\n",
       "<table border=\"1\" class=\"dataframe\">\n",
       "  <thead>\n",
       "    <tr style=\"text-align: right;\">\n",
       "      <th></th>\n",
       "      <th>shape_dims</th>\n",
       "      <th>texture_dims</th>\n",
       "      <th>remaining_dims</th>\n",
       "    </tr>\n",
       "  </thead>\n",
       "  <tbody>\n",
       "    <tr>\n",
       "      <th>SupCon_100.0_animals10_diff_-1+4000_cAugSameSAug</th>\n",
       "      <td>137</td>\n",
       "      <td>123</td>\n",
       "      <td>252</td>\n",
       "    </tr>\n",
       "  </tbody>\n",
       "</table>\n",
       "</div>"
      ],
      "text/plain": [
       "                                                  shape_dims  texture_dims  \\\n",
       "SupCon_100.0_animals10_diff_-1+4000_cAugSameSAug         137           123   \n",
       "\n",
       "                                                  remaining_dims  \n",
       "SupCon_100.0_animals10_diff_-1+4000_cAugSameSAug             252  "
      ]
     },
     "execution_count": 5,
     "metadata": {},
     "output_type": "execute_result"
    }
   ],
   "source": [
    "df_dimensions = ut_sb.corelation_coefficient_shape_bias_metric_for_many(models_dict, dataset_orig, dataset_shape, cuda_device, separate_color=False, apply_ColorJitter=[])\n",
    "ut_sb.save_correlation_coefficient_shape_bias_to_csv_file_for_many(models_dict, df_dimensions, dataset_dict={\"shape\": dataset_shape, \"texture\": dataset_orig},\n",
    "                                                                   apply_ColorJitter=[])\n",
    "\n",
    "for m in models_dict:\n",
    "    root_model, _ = models_dict[m]\n",
    "    path_folder, _ = ut_val.get_paths_from_model_checkpoint(root_model)\n",
    "    create_shape_bias_md(path_folder)\n",
    "\n",
    "df_dimensions"
   ]
  },
  {
   "cell_type": "markdown",
   "metadata": {},
   "source": [
    "#### Separate Color"
   ]
  },
  {
   "cell_type": "code",
   "execution_count": 6,
   "metadata": {},
   "outputs": [
    {
     "name": "stderr",
     "output_type": "stream",
     "text": [
      "100%|██████████| 202/202 [01:57<00:00,  1.72it/s]\n",
      "100%|██████████| 202/202 [04:24<00:00,  1.31s/it]\n"
     ]
    },
    {
     "data": {
      "text/html": [
       "<div>\n",
       "<style scoped>\n",
       "    .dataframe tbody tr th:only-of-type {\n",
       "        vertical-align: middle;\n",
       "    }\n",
       "\n",
       "    .dataframe tbody tr th {\n",
       "        vertical-align: top;\n",
       "    }\n",
       "\n",
       "    .dataframe thead th {\n",
       "        text-align: right;\n",
       "    }\n",
       "</style>\n",
       "<table border=\"1\" class=\"dataframe\">\n",
       "  <thead>\n",
       "    <tr style=\"text-align: right;\">\n",
       "      <th></th>\n",
       "      <th>shape_dims</th>\n",
       "      <th>texture_dims</th>\n",
       "      <th>color_dims</th>\n",
       "      <th>remaining_dims</th>\n",
       "    </tr>\n",
       "  </thead>\n",
       "  <tbody>\n",
       "    <tr>\n",
       "      <th>SupCon_100.0_animals10_diff_-1+4000_cAugSameSAug</th>\n",
       "      <td>116</td>\n",
       "      <td>100</td>\n",
       "      <td>82</td>\n",
       "      <td>214</td>\n",
       "    </tr>\n",
       "  </tbody>\n",
       "</table>\n",
       "</div>"
      ],
      "text/plain": [
       "                                                  shape_dims  texture_dims  \\\n",
       "SupCon_100.0_animals10_diff_-1+4000_cAugSameSAug         116           100   \n",
       "\n",
       "                                                  color_dims  remaining_dims  \n",
       "SupCon_100.0_animals10_diff_-1+4000_cAugSameSAug          82             214  "
      ]
     },
     "execution_count": 6,
     "metadata": {},
     "output_type": "execute_result"
    }
   ],
   "source": [
    "df_dimensions = ut_sb.corelation_coefficient_shape_bias_metric_for_many(models_dict, dataset_orig, dataset_shape, cuda_device, separate_color=True, apply_ColorJitter=[\"texture\"])\n",
    "ut_sb.save_correlation_coefficient_shape_bias_to_csv_file_for_many(models_dict, df_dimensions, dataset_dict={\"shape\": dataset_shape, \"texture\": dataset_orig, \"color\": dataset_orig},\n",
    "                                                                   apply_ColorJitter=[\"texture\"])\n",
    "\n",
    "for m in models_dict:\n",
    "    root_model, _ = models_dict[m]\n",
    "    path_folder, _ = ut_val.get_paths_from_model_checkpoint(root_model)\n",
    "    create_shape_bias_md(path_folder)\n",
    "\n",
    "df_dimensions"
   ]
  },
  {
   "cell_type": "markdown",
   "metadata": {},
   "source": [
    "#### Form Cue Conflict Dataset"
   ]
  },
  {
   "cell_type": "code",
   "execution_count": 7,
   "metadata": {},
   "outputs": [
    {
     "name": "stderr",
     "output_type": "stream",
     "text": [
      "100%|██████████| 897/897 [08:46<00:00,  1.70it/s]\n"
     ]
    },
    {
     "data": {
      "text/html": [
       "<div>\n",
       "<style scoped>\n",
       "    .dataframe tbody tr th:only-of-type {\n",
       "        vertical-align: middle;\n",
       "    }\n",
       "\n",
       "    .dataframe tbody tr th {\n",
       "        vertical-align: top;\n",
       "    }\n",
       "\n",
       "    .dataframe thead th {\n",
       "        text-align: right;\n",
       "    }\n",
       "</style>\n",
       "<table border=\"1\" class=\"dataframe\">\n",
       "  <thead>\n",
       "    <tr style=\"text-align: right;\">\n",
       "      <th></th>\n",
       "      <th>shape_dims</th>\n",
       "      <th>texture_dims</th>\n",
       "      <th>remaining_dims</th>\n",
       "    </tr>\n",
       "  </thead>\n",
       "  <tbody>\n",
       "    <tr>\n",
       "      <th>SupCon_100.0_animals10_diff_-1+4000_cAugSameSAug</th>\n",
       "      <td>114</td>\n",
       "      <td>142</td>\n",
       "      <td>256</td>\n",
       "    </tr>\n",
       "  </tbody>\n",
       "</table>\n",
       "</div>"
      ],
      "text/plain": [
       "                                                  shape_dims  texture_dims  \\\n",
       "SupCon_100.0_animals10_diff_-1+4000_cAugSameSAug         114           142   \n",
       "\n",
       "                                                  remaining_dims  \n",
       "SupCon_100.0_animals10_diff_-1+4000_cAugSameSAug             256  "
      ]
     },
     "execution_count": 7,
     "metadata": {},
     "output_type": "execute_result"
    }
   ],
   "source": [
    "df_dimensions = ut_sb.corelation_coefficient_shape_bias_metric_from_cue_conflict_dataset_for_many(models_dict, dataset_cue_conflict, cuda_device)\n",
    "ut_sb.save_correlation_coefficient_shape_bias_to_csv_file_for_many(models_dict, df_dimensions, dataset_dict={\"cue_conflict\": dataset_cue_conflict})\n",
    "\n",
    "for m in models_dict:\n",
    "    root_model, _ = models_dict[m]\n",
    "    path_folder, _ = ut_val.get_paths_from_model_checkpoint(root_model)\n",
    "    create_shape_bias_md(path_folder)\n",
    "\n",
    "df_dimensions"
   ]
  },
  {
   "cell_type": "markdown",
   "metadata": {},
   "source": [
    "-----"
   ]
  },
  {
   "cell_type": "code",
   "execution_count": 8,
   "metadata": {},
   "outputs": [
    {
     "name": "stderr",
     "output_type": "stream",
     "text": [
      "100%|██████████| 202/202 [02:11<00:00,  1.54it/s]\n",
      "100%|██████████| 202/202 [02:10<00:00,  1.54it/s]\n"
     ]
    },
    {
     "data": {
      "text/html": [
       "<div>\n",
       "<style scoped>\n",
       "    .dataframe tbody tr th:only-of-type {\n",
       "        vertical-align: middle;\n",
       "    }\n",
       "\n",
       "    .dataframe tbody tr th {\n",
       "        vertical-align: top;\n",
       "    }\n",
       "\n",
       "    .dataframe thead th {\n",
       "        text-align: right;\n",
       "    }\n",
       "</style>\n",
       "<table border=\"1\" class=\"dataframe\">\n",
       "  <thead>\n",
       "    <tr style=\"text-align: right;\">\n",
       "      <th></th>\n",
       "      <th>shape_dims</th>\n",
       "      <th>texture_dims</th>\n",
       "      <th>remaining_dims</th>\n",
       "    </tr>\n",
       "  </thead>\n",
       "  <tbody>\n",
       "    <tr>\n",
       "      <th>SupCon_100.0_animals10_diff_-1+4000_cAugSameSAug</th>\n",
       "      <td>193</td>\n",
       "      <td>104</td>\n",
       "      <td>215</td>\n",
       "    </tr>\n",
       "  </tbody>\n",
       "</table>\n",
       "</div>"
      ],
      "text/plain": [
       "                                                  shape_dims  texture_dims  \\\n",
       "SupCon_100.0_animals10_diff_-1+4000_cAugSameSAug         193           104   \n",
       "\n",
       "                                                  remaining_dims  \n",
       "SupCon_100.0_animals10_diff_-1+4000_cAugSameSAug             215  "
      ]
     },
     "execution_count": 8,
     "metadata": {},
     "output_type": "execute_result"
    }
   ],
   "source": [
    "df_dimensions = ut_sb.corelation_coefficient_shape_bias_metric_for_many(models_dict, dataset_orig, dataset_diff, cuda_device, separate_color=False, apply_ColorJitter=[\"shape\"])\n",
    "ut_sb.save_correlation_coefficient_shape_bias_to_csv_file_for_many(models_dict, df_dimensions, dataset_dict={\"shape\": dataset_diff, \"texture\": dataset_orig},\n",
    "                                                                   apply_ColorJitter=[\"shape\"])\n",
    "\n",
    "for m in models_dict:\n",
    "    root_model, _ = models_dict[m]\n",
    "    path_folder, _ = ut_val.get_paths_from_model_checkpoint(root_model)\n",
    "    create_shape_bias_md(path_folder)\n",
    "\n",
    "df_dimensions"
   ]
  },
  {
   "cell_type": "code",
   "execution_count": 9,
   "metadata": {},
   "outputs": [
    {
     "name": "stderr",
     "output_type": "stream",
     "text": [
      "100%|██████████| 202/202 [02:13<00:00,  1.52it/s]\n",
      "100%|██████████| 202/202 [04:23<00:00,  1.30s/it]\n"
     ]
    },
    {
     "data": {
      "text/html": [
       "<div>\n",
       "<style scoped>\n",
       "    .dataframe tbody tr th:only-of-type {\n",
       "        vertical-align: middle;\n",
       "    }\n",
       "\n",
       "    .dataframe tbody tr th {\n",
       "        vertical-align: top;\n",
       "    }\n",
       "\n",
       "    .dataframe thead th {\n",
       "        text-align: right;\n",
       "    }\n",
       "</style>\n",
       "<table border=\"1\" class=\"dataframe\">\n",
       "  <thead>\n",
       "    <tr style=\"text-align: right;\">\n",
       "      <th></th>\n",
       "      <th>shape_dims</th>\n",
       "      <th>texture_dims</th>\n",
       "      <th>color_dims</th>\n",
       "      <th>remaining_dims</th>\n",
       "    </tr>\n",
       "  </thead>\n",
       "  <tbody>\n",
       "    <tr>\n",
       "      <th>SupCon_100.0_animals10_diff_-1+4000_cAugSameSAug</th>\n",
       "      <td>167</td>\n",
       "      <td>87</td>\n",
       "      <td>71</td>\n",
       "      <td>187</td>\n",
       "    </tr>\n",
       "  </tbody>\n",
       "</table>\n",
       "</div>"
      ],
      "text/plain": [
       "                                                  shape_dims  texture_dims  \\\n",
       "SupCon_100.0_animals10_diff_-1+4000_cAugSameSAug         167            87   \n",
       "\n",
       "                                                  color_dims  remaining_dims  \n",
       "SupCon_100.0_animals10_diff_-1+4000_cAugSameSAug          71             187  "
      ]
     },
     "execution_count": 9,
     "metadata": {},
     "output_type": "execute_result"
    }
   ],
   "source": [
    "df_dimensions = ut_sb.corelation_coefficient_shape_bias_metric_for_many(models_dict, dataset_orig, dataset_diff, cuda_device, separate_color=True, apply_ColorJitter=[\"shape\", \"texture\"])\n",
    "ut_sb.save_correlation_coefficient_shape_bias_to_csv_file_for_many(models_dict, df_dimensions, dataset_dict={\"shape\": dataset_diff, \"texture\": dataset_orig, \"color\": dataset_orig},\n",
    "                                                                   apply_ColorJitter=[\"shape\", \"texture\"])\n",
    "\n",
    "for m in models_dict:\n",
    "    root_model, _ = models_dict[m]\n",
    "    path_folder, _ = ut_val.get_paths_from_model_checkpoint(root_model)\n",
    "    create_shape_bias_md(path_folder)\n",
    "\n",
    "df_dimensions"
   ]
  },
  {
   "cell_type": "markdown",
   "metadata": {},
   "source": [
    "-----------\n",
    "\n",
    "#### Experiments"
   ]
  },
  {
   "cell_type": "code",
   "execution_count": 30,
   "metadata": {},
   "outputs": [
    {
     "name": "stderr",
     "output_type": "stream",
     "text": [
      "100%|██████████| 202/202 [00:53<00:00,  3.79it/s]\n",
      "100%|██████████| 202/202 [01:00<00:00,  3.33it/s]\n"
     ]
    }
   ],
   "source": [
    "import numpy as np\n",
    "\n",
    "model_short_name = \"SupCon_20.0_animals10_diff_-1+4000_cAugSameSAug\"\n",
    "\n",
    "root_model = models_dict[model_short_name][0]\n",
    "\n",
    "embedding_orig, embedding_shape, embedding_texture, class_labels = ut_sb.compute_load_orig_shape_texture_embeddings(root_model, dataset_orig, dataset_shape, cuda_device, separate_color=False, apply_ColorJitter=[])\n",
    "corr_coef_shape = ut_sb.compute_dim_correlation_coefficients(embedding_orig, embedding_shape)\n",
    "corr_coef_texture = ut_sb.compute_dim_correlation_coefficients(embedding_orig, embedding_texture)"
   ]
  },
  {
   "cell_type": "code",
   "execution_count": 71,
   "metadata": {},
   "outputs": [
    {
     "name": "stderr",
     "output_type": "stream",
     "text": [
      "100%|██████████| 897/897 [04:06<00:00,  3.64it/s]\n"
     ]
    }
   ],
   "source": [
    "model_short_name = \"SupCon_20.0_animals10_diff_-1+4000_cAugSameSAug\"\n",
    "\n",
    "root_model = models_dict[model_short_name][0]\n",
    "\n",
    "embedding, _, _, _, shapeName_textureName_list = ut_sb.compute_cue_conflict_embeddings(root_model, dataset_cue_conflict, cuda_device)\n",
    "\n",
    "# determent the shape and texture pairs in the cue conflict embedding\n",
    "shape_pairs = []\n",
    "shape_array = np.array([sN for sN,_ in shapeName_textureName_list])\n",
    "for sN in set(shape_array):\n",
    "    shape_indices = np.where(shape_array == sN)[0]\n",
    "    shape_pairs.append(shape_indices)\n",
    "\n",
    "shape_pair_A = np.concatenate([np.tile(shape_pairs[i], reps=len(shape_pairs[i])-1) for i in range(len(shape_pairs))])\n",
    "shape_pair_B = np.concatenate([np.concatenate([np.roll(shape_pairs[i], shift=j) for j in range(1,len(shape_pairs[i]))]) for i in range(len(shape_pairs))])\n",
    "\n",
    "texture_pairs = []\n",
    "texture_array = np.array([tN for _,tN in shapeName_textureName_list])\n",
    "for tN in set(texture_array):\n",
    "    texture_indices = np.where(texture_array == tN)[0]\n",
    "    texture_pairs.append(texture_indices)\n",
    "\n",
    "texture_pair_A = np.concatenate([np.tile(texture_pairs[i], reps=len(texture_pairs[i])-1) for i in range(len(texture_pairs))])\n",
    "texture_pair_B = np.concatenate([np.concatenate([np.roll(texture_pairs[i], shift=j) for j in range(1,len(texture_pairs[i]))]) for i in range(len(texture_pairs))])\n",
    "\n",
    "corr_coef_shape_2 = ut_sb.compute_dim_correlation_coefficients(embedding[shape_pair_A], embedding[shape_pair_B])\n",
    "corr_coef_texture_2 = ut_sb.compute_dim_correlation_coefficients(embedding[texture_pair_A], embedding[texture_pair_B])"
   ]
  },
  {
   "cell_type": "code",
   "execution_count": 185,
   "metadata": {},
   "outputs": [
    {
     "name": "stderr",
     "output_type": "stream",
     "text": [
      "100%|██████████| 202/202 [01:01<00:00,  3.31it/s]\n",
      "100%|██████████| 202/202 [01:01<00:00,  3.30it/s]\n"
     ]
    }
   ],
   "source": [
    "model_short_name = \"SupCon_20.0_animals10_diff_-1+4000_cAugSameSAug\"\n",
    "\n",
    "root_model = models_dict[model_short_name][0]\n",
    "\n",
    "_, embedding_diff_4000, _, class_labels = ut_sb.compute_load_orig_shape_texture_embeddings(root_model, dataset_orig, \"animals10_diff_4000\", cuda_device, separate_color=False, apply_ColorJitter=[\"shape\"])\n",
    "corr_coef_diff_4000 = ut_sb.compute_dim_correlation_coefficients(embedding_orig, embedding_diff_4000)"
   ]
  },
  {
   "cell_type": "code",
   "execution_count": 201,
   "metadata": {},
   "outputs": [
    {
     "name": "stdout",
     "output_type": "stream",
     "text": [
      "A: shape: 230, texture: 282   [128, 131, 253]\n",
      "\n",
      "B: shape: 36, texture: 476   [104, 157, 251]\n",
      "\n",
      "ABCD: shape: 13, texture: 249\n",
      "\n",
      "E: shape: 512, texture: 0   [198, 107, 207]\n",
      "\n",
      "ABCDEF: shape: 13, texture: 0\n"
     ]
    }
   ],
   "source": [
    "eps = 0.0\n",
    "\n",
    "argsort_shape = np.argsort(corr_coef_shape)\n",
    "argsort_texture = np.argsort(corr_coef_texture)\n",
    "\n",
    "argsort_shape_2 = np.argsort(corr_coef_shape_2)\n",
    "argsort_texture_2 = np.argsort(corr_coef_texture_2)\n",
    "\n",
    "argsort_diff_4000 = np.argsort(corr_coef_diff_4000)\n",
    "\n",
    "larger_shape_corr_coef_A = (corr_coef_shape - eps > corr_coef_texture).astype(int)\n",
    "larger_shape_corr_coef_B = (corr_coef_shape_2 - eps > corr_coef_texture_2).astype(int)\n",
    "larger_shape_corr_coef_C = (corr_coef_shape - eps > corr_coef_texture_2).astype(int)\n",
    "larger_shape_corr_coef_D = (corr_coef_shape_2 - eps > corr_coef_texture).astype(int)\n",
    "larger_shape_corr_coef_E = (corr_coef_diff_4000 - eps > corr_coef_texture).astype(int)\n",
    "larger_shape_corr_coef_F = (corr_coef_diff_4000 - eps > corr_coef_texture_2).astype(int)\n",
    "\n",
    "larger_texture_corr_coef_A = (corr_coef_shape + eps < corr_coef_texture).astype(int)\n",
    "larger_texture_corr_coef_B = (corr_coef_shape_2 + eps < corr_coef_texture_2).astype(int)\n",
    "larger_texture_corr_coef_C = (corr_coef_shape + eps < corr_coef_texture_2).astype(int)\n",
    "larger_texture_corr_coef_D = (corr_coef_shape_2 + eps < corr_coef_texture).astype(int)\n",
    "larger_texture_corr_coef_E = (corr_coef_diff_4000 + eps < corr_coef_texture).astype(int)\n",
    "larger_texture_corr_coef_F = (corr_coef_diff_4000 + eps < corr_coef_texture_2).astype(int)\n",
    "\n",
    "shape_larger_A = (larger_shape_corr_coef_A == 1).sum()\n",
    "texture_larger_A = (larger_texture_corr_coef_A == 1).sum()\n",
    "\n",
    "shape_larger_B = (larger_shape_corr_coef_B == 1).sum()\n",
    "texture_larger_B = (larger_texture_corr_coef_B == 1).sum()\n",
    "\n",
    "shape_larger_ABCD = (larger_shape_corr_coef_A + larger_shape_corr_coef_B + larger_shape_corr_coef_C + larger_shape_corr_coef_D == 4).sum()\n",
    "texture_larger_ABCD = (larger_texture_corr_coef_A + larger_texture_corr_coef_B + larger_texture_corr_coef_C + larger_texture_corr_coef_D == 4).sum()\n",
    "\n",
    "shape_larger_E = (larger_shape_corr_coef_E == 1).sum()\n",
    "texture_larger_E = (larger_texture_corr_coef_E == 1).sum()\n",
    "\n",
    "shape_larger_ABCDEF = (larger_shape_corr_coef_A + larger_shape_corr_coef_B + larger_shape_corr_coef_C + larger_shape_corr_coef_D + larger_shape_corr_coef_E +larger_shape_corr_coef_F == 6).sum()\n",
    "texture_larger_ABCDEF = (larger_texture_corr_coef_A + larger_texture_corr_coef_B + larger_texture_corr_coef_C + larger_texture_corr_coef_D + larger_texture_corr_coef_E + larger_texture_corr_coef_F == 6).sum()\n",
    "\n",
    "print(f\"A: shape: {shape_larger_A}, texture: {texture_larger_A}   {ut_sb.estimate_dims([corr_coef_shape, corr_coef_texture])}\")\n",
    "\n",
    "print(f\"\\nB: shape: {shape_larger_B}, texture: {texture_larger_B}   {ut_sb.estimate_dims([corr_coef_shape_2, corr_coef_texture_2])}\")\n",
    "\n",
    "print(f\"\\nABCD: shape: {shape_larger_ABCD}, texture: {texture_larger_ABCD}\")\n",
    "\n",
    "print(f\"\\nE: shape: {shape_larger_E}, texture: {texture_larger_E}   {ut_sb.estimate_dims([corr_coef_diff_4000, corr_coef_texture])}\")\n",
    "\n",
    "print(f\"\\nABCDEF: shape: {shape_larger_ABCDEF}, texture: {texture_larger_ABCDEF}\")"
   ]
  },
  {
   "cell_type": "markdown",
   "metadata": {},
   "source": [
    "### Feature Embedding Distances"
   ]
  },
  {
   "cell_type": "code",
   "execution_count": 10,
   "metadata": {},
   "outputs": [
    {
     "name": "stderr",
     "output_type": "stream",
     "text": [
      "100%|██████████| 10/10 [00:15<00:00,  1.57s/it]\n",
      "100%|██████████| 10/10 [00:15<00:00,  1.58s/it]\n",
      "100%|██████████| 5236/5236 [02:05<00:00, 41.77it/s]\n",
      "100%|██████████| 5236/5236 [01:36<00:00, 54.03it/s]\n"
     ]
    },
    {
     "data": {
      "text/html": [
       "<div>\n",
       "<style scoped>\n",
       "    .dataframe tbody tr th:only-of-type {\n",
       "        vertical-align: middle;\n",
       "    }\n",
       "\n",
       "    .dataframe tbody tr th {\n",
       "        vertical-align: top;\n",
       "    }\n",
       "\n",
       "    .dataframe thead th {\n",
       "        text-align: right;\n",
       "    }\n",
       "</style>\n",
       "<table border=\"1\" class=\"dataframe\">\n",
       "  <thead>\n",
       "    <tr style=\"text-align: right;\">\n",
       "      <th></th>\n",
       "      <th>SupCon_100.0_animals10_diff_-1+4000_cAugSameSAug</th>\n",
       "    </tr>\n",
       "  </thead>\n",
       "  <tbody>\n",
       "    <tr>\n",
       "      <th>mean_distance_related</th>\n",
       "      <td>0.000430</td>\n",
       "    </tr>\n",
       "    <tr>\n",
       "      <th>std_distance_related</th>\n",
       "      <td>0.000816</td>\n",
       "    </tr>\n",
       "    <tr>\n",
       "      <th>mean_distance_classes</th>\n",
       "      <td>0.252440</td>\n",
       "    </tr>\n",
       "    <tr>\n",
       "      <th>std_distance_classes</th>\n",
       "      <td>0.155461</td>\n",
       "    </tr>\n",
       "    <tr>\n",
       "      <th>mean_distance_all_vs_all</th>\n",
       "      <td>0.252750</td>\n",
       "    </tr>\n",
       "    <tr>\n",
       "      <th>std_distance_all_vs_all</th>\n",
       "      <td>0.150203</td>\n",
       "    </tr>\n",
       "    <tr>\n",
       "      <th>min_distance</th>\n",
       "      <td>0.000002</td>\n",
       "    </tr>\n",
       "    <tr>\n",
       "      <th>max_distance</th>\n",
       "      <td>0.854468</td>\n",
       "    </tr>\n",
       "  </tbody>\n",
       "</table>\n",
       "</div>"
      ],
      "text/plain": [
       "                          SupCon_100.0_animals10_diff_-1+4000_cAugSameSAug\n",
       "mean_distance_related                                             0.000430\n",
       "std_distance_related                                              0.000816\n",
       "mean_distance_classes                                             0.252440\n",
       "std_distance_classes                                              0.155461\n",
       "mean_distance_all_vs_all                                          0.252750\n",
       "std_distance_all_vs_all                                           0.150203\n",
       "min_distance                                                      0.000002\n",
       "max_distance                                                      0.854468"
      ]
     },
     "execution_count": 10,
     "metadata": {},
     "output_type": "execute_result"
    }
   ],
   "source": [
    "df_distances = ut_sb.compute_distance_to_diff_for_many(models_dict, dataset_orig, dataset_diff, cuda_device, plot_hist=False)\n",
    "ut_sb.save_dist_to_csv_file_for_many(models_dict, df_distances, dataset_orig, dataset_diff)\n",
    "\n",
    "for m in models_dict:\n",
    "    root_model, _ = models_dict[m]\n",
    "    path_folder, _ = ut_val.get_paths_from_model_checkpoint(root_model)\n",
    "    create_distances_md(path_folder)\n",
    "\n",
    "df_distances"
   ]
  },
  {
   "cell_type": "markdown",
   "metadata": {},
   "source": [
    "#### Distance to stylized Images"
   ]
  },
  {
   "cell_type": "code",
   "execution_count": 22,
   "metadata": {},
   "outputs": [
    {
     "name": "stderr",
     "output_type": "stream",
     "text": [
      "100%|██████████| 10/10 [00:08<00:00,  1.12it/s]\n",
      "100%|██████████| 10/10 [00:09<00:00,  1.11it/s]\n",
      "100%|██████████| 5236/5236 [01:24<00:00, 62.05it/s]\n",
      "100%|██████████| 5236/5236 [01:19<00:00, 66.02it/s]\n",
      "100%|██████████| 10/10 [00:08<00:00,  1.11it/s]\n",
      "100%|██████████| 10/10 [00:08<00:00,  1.11it/s]\n",
      "100%|██████████| 5236/5236 [01:22<00:00, 63.58it/s]\n",
      "100%|██████████| 5236/5236 [01:19<00:00, 65.82it/s]\n",
      "100%|██████████| 10/10 [00:08<00:00,  1.12it/s]\n",
      "100%|██████████| 10/10 [00:08<00:00,  1.12it/s]\n",
      "100%|██████████| 5236/5236 [01:20<00:00, 64.86it/s]\n",
      "100%|██████████| 5236/5236 [01:18<00:00, 66.90it/s]\n",
      "100%|██████████| 10/10 [00:08<00:00,  1.13it/s]\n",
      "100%|██████████| 10/10 [00:08<00:00,  1.12it/s]\n",
      "100%|██████████| 5236/5236 [01:21<00:00, 64.10it/s]\n",
      "100%|██████████| 5236/5236 [01:19<00:00, 66.25it/s]\n",
      "100%|██████████| 10/10 [00:09<00:00,  1.11it/s]\n",
      "100%|██████████| 10/10 [00:09<00:00,  1.11it/s]\n",
      "100%|██████████| 5236/5236 [01:21<00:00, 64.13it/s]\n",
      "100%|██████████| 5236/5236 [01:18<00:00, 66.30it/s]\n",
      "100%|██████████| 10/10 [00:08<00:00,  1.13it/s]\n",
      "100%|██████████| 10/10 [00:08<00:00,  1.12it/s]\n",
      "100%|██████████| 5236/5236 [01:21<00:00, 64.23it/s]\n",
      "100%|██████████| 5236/5236 [01:24<00:00, 62.00it/s]\n",
      "100%|██████████| 10/10 [00:08<00:00,  1.13it/s]\n",
      "100%|██████████| 10/10 [00:08<00:00,  1.12it/s]\n",
      "100%|██████████| 5236/5236 [01:22<00:00, 63.61it/s]\n",
      "100%|██████████| 5236/5236 [01:18<00:00, 66.41it/s]\n",
      "100%|██████████| 10/10 [00:08<00:00,  1.12it/s]\n",
      "100%|██████████| 10/10 [00:08<00:00,  1.12it/s]\n",
      "100%|██████████| 5236/5236 [01:22<00:00, 63.54it/s]\n",
      "100%|██████████| 5236/5236 [01:24<00:00, 62.12it/s]\n",
      "100%|██████████| 10/10 [00:08<00:00,  1.12it/s]\n",
      "100%|██████████| 10/10 [00:08<00:00,  1.11it/s]\n",
      "100%|██████████| 5236/5236 [01:21<00:00, 63.92it/s]\n",
      "100%|██████████| 5236/5236 [01:17<00:00, 67.23it/s]\n",
      "100%|██████████| 10/10 [00:08<00:00,  1.13it/s]\n",
      "100%|██████████| 10/10 [00:08<00:00,  1.12it/s]\n",
      "100%|██████████| 5236/5236 [01:20<00:00, 65.04it/s]\n",
      "100%|██████████| 5236/5236 [01:17<00:00, 67.20it/s]\n",
      "100%|██████████| 10/10 [00:08<00:00,  1.12it/s]\n",
      "100%|██████████| 10/10 [00:08<00:00,  1.11it/s]\n",
      "100%|██████████| 5236/5236 [01:30<00:00, 58.18it/s]\n",
      "100%|██████████| 5236/5236 [01:18<00:00, 66.65it/s]\n",
      "100%|██████████| 10/10 [00:08<00:00,  1.13it/s]\n",
      "100%|██████████| 10/10 [00:08<00:00,  1.12it/s]\n",
      "100%|██████████| 5236/5236 [01:21<00:00, 64.28it/s]\n",
      "100%|██████████| 5236/5236 [01:20<00:00, 65.20it/s]\n",
      "100%|██████████| 10/10 [00:08<00:00,  1.12it/s]\n",
      "100%|██████████| 10/10 [00:09<00:00,  1.11it/s]\n",
      "100%|██████████| 5236/5236 [01:23<00:00, 62.98it/s]\n",
      "100%|██████████| 5236/5236 [01:18<00:00, 66.99it/s]\n"
     ]
    },
    {
     "data": {
      "text/html": [
       "<div>\n",
       "<style scoped>\n",
       "    .dataframe tbody tr th:only-of-type {\n",
       "        vertical-align: middle;\n",
       "    }\n",
       "\n",
       "    .dataframe tbody tr th {\n",
       "        vertical-align: top;\n",
       "    }\n",
       "\n",
       "    .dataframe thead th {\n",
       "        text-align: right;\n",
       "    }\n",
       "</style>\n",
       "<table border=\"1\" class=\"dataframe\">\n",
       "  <thead>\n",
       "    <tr style=\"text-align: right;\">\n",
       "      <th></th>\n",
       "      <th>SupConHybrid_animals10_diff_-1+4000_cAug</th>\n",
       "      <th>SupCon_animals10_diff_-1+4000_cAugSameSAug</th>\n",
       "      <th>SupCon_20.0_animals10_diff_-1+4000_cAugSameSAug</th>\n",
       "      <th>SupCon_animals10_diff_-1_allAug</th>\n",
       "      <th>SupCon_animals10_diff_-1+8000_cAugSameSAug</th>\n",
       "      <th>CE_animals10_diff_4000_allAug</th>\n",
       "      <th>CE_animals10_diff_-1+4000_allAug</th>\n",
       "      <th>CE_animals10_diff_-1_allAug</th>\n",
       "      <th>CE_animals10_diff_-1+8000_allAug</th>\n",
       "      <th>SupCon_5.0_animals10_diff_-1+4000_cAugSameSAug_factor5cAugSameSAug</th>\n",
       "      <th>SupCon_5.0_animals10_diff_-1+4000_cAugSameSAug_fineTuneCAsameSAFactor5</th>\n",
       "      <th>SupCon_100.0_animals10_diff_-1+4000_cAugSameSAug_fineTuneCAsameSAFactor100</th>\n",
       "      <th>SupCon_100.0_animals10_diff_-1+4000_cAugSameSAug_fineTuneCAsameSAFactor100NoNormalize</th>\n",
       "    </tr>\n",
       "  </thead>\n",
       "  <tbody>\n",
       "    <tr>\n",
       "      <th>mean_distance_related</th>\n",
       "      <td>0.254787</td>\n",
       "      <td>0.248920</td>\n",
       "      <td>0.361863</td>\n",
       "      <td>0.278051</td>\n",
       "      <td>0.251142</td>\n",
       "      <td>0.181488</td>\n",
       "      <td>0.117795</td>\n",
       "      <td>0.126678</td>\n",
       "      <td>0.112508</td>\n",
       "      <td>0.320663</td>\n",
       "      <td>0.274372</td>\n",
       "      <td>0.320240</td>\n",
       "      <td>0.200713</td>\n",
       "    </tr>\n",
       "    <tr>\n",
       "      <th>std_distance_related</th>\n",
       "      <td>0.106073</td>\n",
       "      <td>0.093043</td>\n",
       "      <td>0.123242</td>\n",
       "      <td>0.102435</td>\n",
       "      <td>0.093737</td>\n",
       "      <td>0.112764</td>\n",
       "      <td>0.056956</td>\n",
       "      <td>0.059372</td>\n",
       "      <td>0.054843</td>\n",
       "      <td>0.111433</td>\n",
       "      <td>0.105358</td>\n",
       "      <td>0.124245</td>\n",
       "      <td>0.097236</td>\n",
       "    </tr>\n",
       "    <tr>\n",
       "      <th>mean_distance_classes</th>\n",
       "      <td>0.328186</td>\n",
       "      <td>0.302913</td>\n",
       "      <td>0.444579</td>\n",
       "      <td>0.323084</td>\n",
       "      <td>0.302738</td>\n",
       "      <td>0.203908</td>\n",
       "      <td>0.132869</td>\n",
       "      <td>0.139225</td>\n",
       "      <td>0.127791</td>\n",
       "      <td>0.384695</td>\n",
       "      <td>0.342740</td>\n",
       "      <td>0.400948</td>\n",
       "      <td>0.294915</td>\n",
       "    </tr>\n",
       "    <tr>\n",
       "      <th>std_distance_classes</th>\n",
       "      <td>0.103241</td>\n",
       "      <td>0.090911</td>\n",
       "      <td>0.105307</td>\n",
       "      <td>0.097598</td>\n",
       "      <td>0.088628</td>\n",
       "      <td>0.113139</td>\n",
       "      <td>0.059399</td>\n",
       "      <td>0.060445</td>\n",
       "      <td>0.057345</td>\n",
       "      <td>0.098249</td>\n",
       "      <td>0.100174</td>\n",
       "      <td>0.113134</td>\n",
       "      <td>0.101818</td>\n",
       "    </tr>\n",
       "    <tr>\n",
       "      <th>mean_distance_all_vs_all</th>\n",
       "      <td>0.333541</td>\n",
       "      <td>0.333369</td>\n",
       "      <td>0.458618</td>\n",
       "      <td>0.360261</td>\n",
       "      <td>0.331887</td>\n",
       "      <td>0.215458</td>\n",
       "      <td>0.159703</td>\n",
       "      <td>0.169552</td>\n",
       "      <td>0.152450</td>\n",
       "      <td>0.408765</td>\n",
       "      <td>0.368043</td>\n",
       "      <td>0.418762</td>\n",
       "      <td>0.296389</td>\n",
       "    </tr>\n",
       "    <tr>\n",
       "      <th>std_distance_all_vs_all</th>\n",
       "      <td>0.101172</td>\n",
       "      <td>0.086561</td>\n",
       "      <td>0.097305</td>\n",
       "      <td>0.091893</td>\n",
       "      <td>0.084531</td>\n",
       "      <td>0.108303</td>\n",
       "      <td>0.063522</td>\n",
       "      <td>0.065500</td>\n",
       "      <td>0.061351</td>\n",
       "      <td>0.090989</td>\n",
       "      <td>0.094552</td>\n",
       "      <td>0.105415</td>\n",
       "      <td>0.097503</td>\n",
       "    </tr>\n",
       "    <tr>\n",
       "      <th>min_distance</th>\n",
       "      <td>0.027949</td>\n",
       "      <td>0.033520</td>\n",
       "      <td>0.025516</td>\n",
       "      <td>0.049870</td>\n",
       "      <td>0.017971</td>\n",
       "      <td>0.012979</td>\n",
       "      <td>0.008871</td>\n",
       "      <td>0.011065</td>\n",
       "      <td>0.011662</td>\n",
       "      <td>0.015268</td>\n",
       "      <td>0.014614</td>\n",
       "      <td>0.017499</td>\n",
       "      <td>0.023885</td>\n",
       "    </tr>\n",
       "    <tr>\n",
       "      <th>max_distance</th>\n",
       "      <td>0.862702</td>\n",
       "      <td>0.916382</td>\n",
       "      <td>0.931980</td>\n",
       "      <td>0.920808</td>\n",
       "      <td>0.883462</td>\n",
       "      <td>0.868145</td>\n",
       "      <td>0.722765</td>\n",
       "      <td>0.752928</td>\n",
       "      <td>0.714770</td>\n",
       "      <td>0.929515</td>\n",
       "      <td>0.908335</td>\n",
       "      <td>0.928537</td>\n",
       "      <td>0.804522</td>\n",
       "    </tr>\n",
       "  </tbody>\n",
       "</table>\n",
       "</div>"
      ],
      "text/plain": [
       "                          SupConHybrid_animals10_diff_-1+4000_cAug  \\\n",
       "mean_distance_related                                     0.254787   \n",
       "std_distance_related                                      0.106073   \n",
       "mean_distance_classes                                     0.328186   \n",
       "std_distance_classes                                      0.103241   \n",
       "mean_distance_all_vs_all                                  0.333541   \n",
       "std_distance_all_vs_all                                   0.101172   \n",
       "min_distance                                              0.027949   \n",
       "max_distance                                              0.862702   \n",
       "\n",
       "                          SupCon_animals10_diff_-1+4000_cAugSameSAug  \\\n",
       "mean_distance_related                                       0.248920   \n",
       "std_distance_related                                        0.093043   \n",
       "mean_distance_classes                                       0.302913   \n",
       "std_distance_classes                                        0.090911   \n",
       "mean_distance_all_vs_all                                    0.333369   \n",
       "std_distance_all_vs_all                                     0.086561   \n",
       "min_distance                                                0.033520   \n",
       "max_distance                                                0.916382   \n",
       "\n",
       "                          SupCon_20.0_animals10_diff_-1+4000_cAugSameSAug  \\\n",
       "mean_distance_related                                            0.361863   \n",
       "std_distance_related                                             0.123242   \n",
       "mean_distance_classes                                            0.444579   \n",
       "std_distance_classes                                             0.105307   \n",
       "mean_distance_all_vs_all                                         0.458618   \n",
       "std_distance_all_vs_all                                          0.097305   \n",
       "min_distance                                                     0.025516   \n",
       "max_distance                                                     0.931980   \n",
       "\n",
       "                          SupCon_animals10_diff_-1_allAug  \\\n",
       "mean_distance_related                            0.278051   \n",
       "std_distance_related                             0.102435   \n",
       "mean_distance_classes                            0.323084   \n",
       "std_distance_classes                             0.097598   \n",
       "mean_distance_all_vs_all                         0.360261   \n",
       "std_distance_all_vs_all                          0.091893   \n",
       "min_distance                                     0.049870   \n",
       "max_distance                                     0.920808   \n",
       "\n",
       "                          SupCon_animals10_diff_-1+8000_cAugSameSAug  \\\n",
       "mean_distance_related                                       0.251142   \n",
       "std_distance_related                                        0.093737   \n",
       "mean_distance_classes                                       0.302738   \n",
       "std_distance_classes                                        0.088628   \n",
       "mean_distance_all_vs_all                                    0.331887   \n",
       "std_distance_all_vs_all                                     0.084531   \n",
       "min_distance                                                0.017971   \n",
       "max_distance                                                0.883462   \n",
       "\n",
       "                          CE_animals10_diff_4000_allAug  \\\n",
       "mean_distance_related                          0.181488   \n",
       "std_distance_related                           0.112764   \n",
       "mean_distance_classes                          0.203908   \n",
       "std_distance_classes                           0.113139   \n",
       "mean_distance_all_vs_all                       0.215458   \n",
       "std_distance_all_vs_all                        0.108303   \n",
       "min_distance                                   0.012979   \n",
       "max_distance                                   0.868145   \n",
       "\n",
       "                          CE_animals10_diff_-1+4000_allAug  \\\n",
       "mean_distance_related                             0.117795   \n",
       "std_distance_related                              0.056956   \n",
       "mean_distance_classes                             0.132869   \n",
       "std_distance_classes                              0.059399   \n",
       "mean_distance_all_vs_all                          0.159703   \n",
       "std_distance_all_vs_all                           0.063522   \n",
       "min_distance                                      0.008871   \n",
       "max_distance                                      0.722765   \n",
       "\n",
       "                          CE_animals10_diff_-1_allAug  \\\n",
       "mean_distance_related                        0.126678   \n",
       "std_distance_related                         0.059372   \n",
       "mean_distance_classes                        0.139225   \n",
       "std_distance_classes                         0.060445   \n",
       "mean_distance_all_vs_all                     0.169552   \n",
       "std_distance_all_vs_all                      0.065500   \n",
       "min_distance                                 0.011065   \n",
       "max_distance                                 0.752928   \n",
       "\n",
       "                          CE_animals10_diff_-1+8000_allAug  \\\n",
       "mean_distance_related                             0.112508   \n",
       "std_distance_related                              0.054843   \n",
       "mean_distance_classes                             0.127791   \n",
       "std_distance_classes                              0.057345   \n",
       "mean_distance_all_vs_all                          0.152450   \n",
       "std_distance_all_vs_all                           0.061351   \n",
       "min_distance                                      0.011662   \n",
       "max_distance                                      0.714770   \n",
       "\n",
       "                          SupCon_5.0_animals10_diff_-1+4000_cAugSameSAug_factor5cAugSameSAug  \\\n",
       "mean_distance_related                                              0.320663                    \n",
       "std_distance_related                                               0.111433                    \n",
       "mean_distance_classes                                              0.384695                    \n",
       "std_distance_classes                                               0.098249                    \n",
       "mean_distance_all_vs_all                                           0.408765                    \n",
       "std_distance_all_vs_all                                            0.090989                    \n",
       "min_distance                                                       0.015268                    \n",
       "max_distance                                                       0.929515                    \n",
       "\n",
       "                          SupCon_5.0_animals10_diff_-1+4000_cAugSameSAug_fineTuneCAsameSAFactor5  \\\n",
       "mean_distance_related                                              0.274372                        \n",
       "std_distance_related                                               0.105358                        \n",
       "mean_distance_classes                                              0.342740                        \n",
       "std_distance_classes                                               0.100174                        \n",
       "mean_distance_all_vs_all                                           0.368043                        \n",
       "std_distance_all_vs_all                                            0.094552                        \n",
       "min_distance                                                       0.014614                        \n",
       "max_distance                                                       0.908335                        \n",
       "\n",
       "                          SupCon_100.0_animals10_diff_-1+4000_cAugSameSAug_fineTuneCAsameSAFactor100  \\\n",
       "mean_distance_related                                              0.320240                            \n",
       "std_distance_related                                               0.124245                            \n",
       "mean_distance_classes                                              0.400948                            \n",
       "std_distance_classes                                               0.113134                            \n",
       "mean_distance_all_vs_all                                           0.418762                            \n",
       "std_distance_all_vs_all                                            0.105415                            \n",
       "min_distance                                                       0.017499                            \n",
       "max_distance                                                       0.928537                            \n",
       "\n",
       "                          SupCon_100.0_animals10_diff_-1+4000_cAugSameSAug_fineTuneCAsameSAFactor100NoNormalize  \n",
       "mean_distance_related                                              0.200713                                      \n",
       "std_distance_related                                               0.097236                                      \n",
       "mean_distance_classes                                              0.294915                                      \n",
       "std_distance_classes                                               0.101818                                      \n",
       "mean_distance_all_vs_all                                           0.296389                                      \n",
       "std_distance_all_vs_all                                            0.097503                                      \n",
       "min_distance                                                       0.023885                                      \n",
       "max_distance                                                       0.804522                                      "
      ]
     },
     "execution_count": 22,
     "metadata": {},
     "output_type": "execute_result"
    }
   ],
   "source": [
    "df_distances = ut_sb.compute_distance_to_diff_for_many(models_dict, dataset_orig, dataset_shape, cuda_device, plot_hist=False)\n",
    "ut_sb.save_dist_to_csv_file_for_many(models_dict, df_distances, dataset_orig, dataset_shape)\n",
    "\n",
    "for m in models_dict:\n",
    "    root_model, _ = models_dict[m]\n",
    "    path_folder, _ = ut_val.get_paths_from_model_checkpoint(root_model)\n",
    "    create_distances_md(path_folder)\n",
    "\n",
    "df_distances"
   ]
  },
  {
   "cell_type": "markdown",
   "metadata": {},
   "source": [
    "# Experiments"
   ]
  },
  {
   "cell_type": "code",
   "execution_count": 81,
   "metadata": {},
   "outputs": [],
   "source": [
    "import os\n",
    "import pickle\n",
    "import numpy as np\n",
    "import torch\n",
    "import matplotlib.pyplot as plt\n",
    "import seaborn\n",
    "from torch.utils.data import Dataset\n",
    "from tqdm import tqdm\n",
    "\n",
    "import util.util_validation as ut_val\n",
    "import util.util_shape_bias as ut_sb\n",
    "from util.util_logging import open_csv_file\n",
    "from util.util_pre_com_feat import IdentityWrapperNet\n",
    "\n",
    "seaborn.set_style(\"darkgrid\")"
   ]
  },
  {
   "cell_type": "code",
   "execution_count": 2,
   "metadata": {},
   "outputs": [
    {
     "name": "stdout",
     "output_type": "stream",
     "text": [
      "| model_name                                                             |\n",
      "|:-----------------------------------------------------------------------|\n",
      "| CE_animals10_diff_-1+4000_allAug                                       |\n",
      "| CE_animals10_diff_-1_allAug                                            |\n",
      "| CE_animals10_diff_4000_allAug                                          |\n",
      "| SupConHybrid_animals10_diff_-1+4000_cAug                               |\n",
      "| SupCon_20.0_animals10_diff_-1+4000_cAugSameSAug                        |\n",
      "| SupCon_5.0_animals10_diff_-1+4000_cAugSameSAug_factor5cAugSameSAug     |\n",
      "| SupCon_5.0_animals10_diff_-1+4000_cAugSameSAug_fineTuneCAsameSAFactor5 |\n",
      "| SupCon_animals10_diff_-1+4000_cAugSameSAug                             |\n",
      "| SupCon_animals10_diff_-1_allAug                                        |\n"
     ]
    }
   ],
   "source": [
    "exclude_params_dict = {\"tag\": [\"CropSize32\", \"divergent\", \"toSlow\", \"lrAdjust1\", \"lrAdjust2\", \"noCosine\", \"bszAdjust1\"]}\n",
    "keep_params_dict = {\"aug\": [\"colorJitter\", \"grayscale\"]}\n",
    "models_dict, df_modelNames = ut_val.collect_models_dict(epoch=\"last\", dataset_classifier=\"\", exclude_params_dict=exclude_params_dict, keep_params_dict=keep_params_dict)\n",
    "print(df_modelNames.to_markdown(index=False))"
   ]
  },
  {
   "cell_type": "code",
   "execution_count": 13,
   "metadata": {},
   "outputs": [],
   "source": [
    "cuda_device = 1\n",
    "\n",
    "dataset_cue_conflict = \"shape_texture_conflict_animals10_many\"\n",
    "\n",
    "dataset_orig = \"animals10_diff_-1\"\n",
    "dataset_shape = \"stylized_animals10\"\n",
    "dataset_diff = \"animals10_diff_4000\""
   ]
  },
  {
   "cell_type": "code",
   "execution_count": 125,
   "metadata": {},
   "outputs": [],
   "source": [
    "model_short_name = \"SupCon_5.0_animals10_diff_-1+4000_cAugSameSAug_factor5cAugSameSAug\"\n",
    "\n",
    "root_model, dataset_classifier = models_dict[model_short_name]"
   ]
  },
  {
   "cell_type": "markdown",
   "metadata": {},
   "source": [
    "## Analyse Cue Conflict Predictions"
   ]
  },
  {
   "cell_type": "code",
   "execution_count": 43,
   "metadata": {},
   "outputs": [],
   "source": [
    "class featureEmbeddingDataset(Dataset):\n",
    "\n",
    "    def __init__(self, root=None, data=None, targets=None):\n",
    "        \n",
    "        if root is not None:\n",
    "            assert data is None and targets is None\n",
    "            with open(root, 'rb') as f:\n",
    "                entry = pickle.load(f, encoding='latin1')\n",
    "                self.data = entry['data']\n",
    "                self.targets = entry['labels']\n",
    "        else:\n",
    "            assert data is not None and targets is not None\n",
    "            assert 1 <= len(targets.shape) <= 2\n",
    "            self.data = data\n",
    "            self.targets = targets\n",
    "\n",
    "    def __len__(self):\n",
    "        return len(self.data)\n",
    "    \n",
    "    def __getitem__(self, index):\n",
    "\n",
    "        feature = torch.from_numpy(self.data[index])\n",
    "        if len(self.targets.shape) == 1:\n",
    "            target = self.targets[index]\n",
    "        else:\n",
    "            target = []\n",
    "            for j in range(self.targets.shape[1]):\n",
    "                target.append(self.targets[index,j])\n",
    "\n",
    "        return feature, target"
   ]
  },
  {
   "cell_type": "code",
   "execution_count": 126,
   "metadata": {},
   "outputs": [
    {
     "name": "stderr",
     "output_type": "stream",
     "text": [
      "100%|██████████| 897/897 [09:03<00:00,  1.65it/s]\n"
     ]
    }
   ],
   "source": [
    "embedding_cue_conf, shape_labels, texture_labels, classes, shapeName_textureName_list = ut_sb.compute_cue_conflict_embeddings(root_model, dataset_cue_conflict, cuda_device)"
   ]
  },
  {
   "cell_type": "code",
   "execution_count": 127,
   "metadata": {},
   "outputs": [],
   "source": [
    "labels = np.stack((shape_labels, texture_labels), axis=-1)\n",
    "\n",
    "shapeName_list = [stn[0] for stn in shapeName_textureName_list]\n",
    "textureName_list = [stn[1] for stn in shapeName_textureName_list]\n",
    "\n",
    "distinct_shape_names = sorted(set(shapeName_list))\n",
    "distinct_texture_names = sorted(set(textureName_list))"
   ]
  },
  {
   "cell_type": "code",
   "execution_count": 130,
   "metadata": {},
   "outputs": [
    {
     "name": "stderr",
     "output_type": "stream",
     "text": [
      "  0%|          | 0/92 [00:00<?, ?it/s]"
     ]
    },
    {
     "name": "stderr",
     "output_type": "stream",
     "text": [
      "100%|██████████| 92/92 [00:00<00:00, 107.51it/s]\n"
     ]
    }
   ],
   "source": [
    "conflict_dataset = featureEmbeddingDataset(data=embedding_cue_conf, targets=labels)\n",
    "conflict_dataloader = torch.utils.data.DataLoader(conflict_dataset, batch_size=256, shuffle=False, num_workers=16, pin_memory=True)\n",
    "\n",
    "path_folder, _ = ut_val.get_paths_from_model_checkpoint(root_model)\n",
    "params = open_csv_file(os.path.join(path_folder, \"params.csv\"))\n",
    "\n",
    "if \"method\" in params:\n",
    "    path_classifier = ut_val.get_path_classifier(root_model, dataset_classifier, params)\n",
    "    classifier = ut_val.load_classifier_checkpoint(path_classifier, params[\"model\"], len(classes), cuda_device)\n",
    "else:\n",
    "    model = ut_val.set_model(root_model, params, cuda_device)\n",
    "    classifier = model.fc\n",
    "\n",
    "identity_model = IdentityWrapperNet()\n",
    "\n",
    "df_pred = ut_val.shape_texture_predictions(identity_model, classifier, conflict_dataloader, cuda_device)\n",
    "\n",
    "\n",
    "df_pred[\"shape_img\"] = shapeName_list\n",
    "df_pred[\"texture_img\"] = textureName_list"
   ]
  },
  {
   "cell_type": "code",
   "execution_count": 132,
   "metadata": {},
   "outputs": [
    {
     "name": "stderr",
     "output_type": "stream",
     "text": [
      "100%|██████████| 2590/2590 [00:09<00:00, 265.24it/s]\n",
      "/tmp/ipykernel_46770/858080359.py:12: RuntimeWarning: invalid value encountered in divide\n",
      "  shannon_equitability_index_s = np.array(shannon_diversity_index_s) / np.log(number_of_unique_preds_s)\n"
     ]
    }
   ],
   "source": [
    "number_of_unique_preds_s = []\n",
    "shannon_diversity_index_s = []\n",
    "for sn in tqdm(distinct_shape_names):\n",
    "    df_sn = df_pred[df_pred.shape_img == sn]\n",
    "    frequencies = df_sn.groupby(\"pred_class\").count()[\"shape_img\"].values\n",
    "\n",
    "    number_of_unique_preds_s.append(len(frequencies))\n",
    "\n",
    "    probabilities = frequencies / frequencies.sum()\n",
    "    shannon_diversity_index_s.append(-np.sum(probabilities * np.log(probabilities)))\n",
    "\n",
    "shannon_equitability_index_s = np.array(shannon_diversity_index_s) / np.log(number_of_unique_preds_s)\n",
    "shannon_equitability_index_s = np.nan_to_num(shannon_equitability_index_s)"
   ]
  },
  {
   "cell_type": "code",
   "execution_count": 135,
   "metadata": {},
   "outputs": [
    {
     "name": "stderr",
     "output_type": "stream",
     "text": [
      "  0%|          | 0/225 [00:00<?, ?it/s]"
     ]
    },
    {
     "name": "stderr",
     "output_type": "stream",
     "text": [
      "100%|██████████| 225/225 [00:00<00:00, 237.71it/s]\n",
      "/tmp/ipykernel_46770/225689415.py:12: RuntimeWarning: invalid value encountered in divide\n",
      "  shannon_equitability_index_t = np.array(shannon_diversity_index_t) / np.log(number_of_unique_preds_t)\n"
     ]
    }
   ],
   "source": [
    "number_of_unique_preds_t = []\n",
    "shannon_diversity_index_t = []\n",
    "for tn in tqdm(distinct_texture_names):\n",
    "    df_tn = df_pred[df_pred.texture_img == tn]\n",
    "    frequencies = df_tn.groupby(\"pred_class\").count()[\"texture_img\"].values\n",
    "\n",
    "    number_of_unique_preds_t.append(len(frequencies))\n",
    "\n",
    "    probabilities = frequencies / frequencies.sum()\n",
    "    shannon_diversity_index_t.append(-np.sum(probabilities * np.log(probabilities)))\n",
    "\n",
    "shannon_equitability_index_t = np.array(shannon_diversity_index_t) / np.log(number_of_unique_preds_t)\n",
    "shannon_equitability_index_t = np.nan_to_num(shannon_equitability_index_t)"
   ]
  },
  {
   "cell_type": "code",
   "execution_count": 136,
   "metadata": {},
   "outputs": [
    {
     "data": {
      "text/plain": [
       "(-0.01, 1.01)"
      ]
     },
     "execution_count": 136,
     "metadata": {},
     "output_type": "execute_result"
    },
    {
     "data": {
      "image/png": "[encoded data removed]",
      "text/plain": [
       "<Figure size 1400x600 with 2 Axes>"
      ]
     },
     "metadata": {},
     "output_type": "display_data"
    }
   ],
   "source": [
    "fig, axs = plt.subplots(ncols=2, figsize=(14,6))\n",
    "\n",
    "axs[0].plot(np.sort(shannon_equitability_index_s))\n",
    "axs[0].set_title(\"Shape: Shannon Equitability Index [SupConFactor5]\")\n",
    "axs[0].set_ylim(-0.01,1.01)\n",
    "\n",
    "axs[1].plot(np.sort(shannon_equitability_index_t))\n",
    "axs[1].set_title(\"Texture: Shannon Equitability Index [SupConFactor5]\")\n",
    "axs[1].set_ylim(-0.01,1.01)"
   ]
  },
  {
   "cell_type": "code",
   "execution_count": 122,
   "metadata": {},
   "outputs": [
    {
     "data": {
      "text/plain": [
       "(-0.01, 1.01)"
      ]
     },
     "execution_count": 122,
     "metadata": {},
     "output_type": "execute_result"
    },
    {
     "data": {
      "image/png": "[encoded data removed]",
      "text/plain": [
       "<Figure size 1400x600 with 2 Axes>"
      ]
     },
     "metadata": {},
     "output_type": "display_data"
    }
   ],
   "source": [
    "fig, axs = plt.subplots(ncols=2, figsize=(14,6))\n",
    "\n",
    "axs[0].plot(np.sort(shannon_equitability_index_s))\n",
    "axs[0].set_title(\"Shape: Shannon Equitability Index [CE_orig]\")\n",
    "axs[0].set_ylim(-0.01,1.01)\n",
    "\n",
    "axs[1].plot(np.sort(shannon_equitability_index_t))\n",
    "axs[1].set_title(\"Texture: Shannon Equitability Index [CE_orig]\")\n",
    "axs[1].set_ylim(-0.01,1.01)"
   ]
  }
 ],
 "metadata": {
  "kernelspec": {
   "display_name": "pytorch_venv",
   "language": "python",
   "name": "python3"
  },
  "language_info": {
   "codemirror_mode": {
    "name": "ipython",
    "version": 3
   },
   "file_extension": ".py",
   "mimetype": "text/x-python",
   "name": "python",
   "nbconvert_exporter": "python",
   "pygments_lexer": "ipython3",
   "version": "3.9.5"
  }
 },
 "nbformat": 4,
 "nbformat_minor": 2
}
