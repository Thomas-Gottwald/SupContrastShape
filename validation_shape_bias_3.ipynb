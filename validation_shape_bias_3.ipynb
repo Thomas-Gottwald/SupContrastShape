{
 "cells": [
  {
   "cell_type": "code",
   "execution_count": 1,
   "metadata": {},
   "outputs": [],
   "source": [
    "import os\n",
    "import pickle\n",
    "import torch\n",
    "import torch.nn.functional as nnf\n",
    "import numpy as np\n",
    "import pandas as pd\n",
    "import matplotlib.pyplot as plt\n",
    "import seaborn\n",
    "\n",
    "from torchvision import transforms, datasets\n",
    "from tqdm import tqdm\n",
    "\n",
    "import util.util_validation as ut_val\n",
    "\n",
    "from util.util_logging import open_csv_file\n",
    "from util.util_diff import DiffLoader, DiffTransform\n",
    "from util.util_diff import SameTwoColorJitter, SameTwoApply\n",
    "\n",
    "seaborn.set_style(\"darkgrid\")"
   ]
  },
  {
   "cell_type": "code",
   "execution_count": 1,
   "metadata": {},
   "outputs": [],
   "source": [
    "import util.util_validation as ut_val\n",
    "import util.util_shape_bias as ut_sb\n",
    "\n",
    "from util.util_logging import create_distances_md, create_shape_bias_md"
   ]
  },
  {
   "cell_type": "code",
   "execution_count": 6,
   "metadata": {},
   "outputs": [
    {
     "data": {
      "text/html": [
       "<div>\n",
       "<style scoped>\n",
       "    .dataframe tbody tr th:only-of-type {\n",
       "        vertical-align: middle;\n",
       "    }\n",
       "\n",
       "    .dataframe tbody tr th {\n",
       "        vertical-align: top;\n",
       "    }\n",
       "\n",
       "    .dataframe thead th {\n",
       "        text-align: right;\n",
       "    }\n",
       "</style>\n",
       "<table border=\"1\" class=\"dataframe\">\n",
       "  <thead>\n",
       "    <tr style=\"text-align: right;\">\n",
       "      <th></th>\n",
       "      <th>model_name</th>\n",
       "    </tr>\n",
       "  </thead>\n",
       "  <tbody>\n",
       "    <tr>\n",
       "      <th>0</th>\n",
       "      <td>CE_animals10_diff_-1+4000_allAug</td>\n",
       "    </tr>\n",
       "    <tr>\n",
       "      <th>1</th>\n",
       "      <td>CE_animals10_diff_-1_allAug</td>\n",
       "    </tr>\n",
       "    <tr>\n",
       "      <th>2</th>\n",
       "      <td>CE_animals10_diff_4000_allAug</td>\n",
       "    </tr>\n",
       "    <tr>\n",
       "      <th>3</th>\n",
       "      <td>SupConHybrid_animals10_diff_-1+4000_cAug</td>\n",
       "    </tr>\n",
       "    <tr>\n",
       "      <th>4</th>\n",
       "      <td>SupCon_20.0_animals10_diff_-1+4000_cAugSameSAug</td>\n",
       "    </tr>\n",
       "    <tr>\n",
       "      <th>5</th>\n",
       "      <td>SupCon_5.0_animals10_diff_-1+4000_cAugSameSAug</td>\n",
       "    </tr>\n",
       "    <tr>\n",
       "      <th>6</th>\n",
       "      <td>SupCon_animals10_diff_-1+4000_cAugSameSAug</td>\n",
       "    </tr>\n",
       "    <tr>\n",
       "      <th>7</th>\n",
       "      <td>SupCon_animals10_diff_-1_allAug</td>\n",
       "    </tr>\n",
       "  </tbody>\n",
       "</table>\n",
       "</div>"
      ],
      "text/plain": [
       "                                        model_name\n",
       "0                 CE_animals10_diff_-1+4000_allAug\n",
       "1                      CE_animals10_diff_-1_allAug\n",
       "2                    CE_animals10_diff_4000_allAug\n",
       "3         SupConHybrid_animals10_diff_-1+4000_cAug\n",
       "4  SupCon_20.0_animals10_diff_-1+4000_cAugSameSAug\n",
       "5   SupCon_5.0_animals10_diff_-1+4000_cAugSameSAug\n",
       "6       SupCon_animals10_diff_-1+4000_cAugSameSAug\n",
       "7                  SupCon_animals10_diff_-1_allAug"
      ]
     },
     "execution_count": 6,
     "metadata": {},
     "output_type": "execute_result"
    }
   ],
   "source": [
    "exclude_params_dict = {\"tag\": [\"CropSize32\", \"divergent\", \"toSlow\", \"lrAdjust1\", \"lrAdjust2\", \"noCosine\", \"bszAdjust1\"]}\n",
    "keep_params_dict = {\"aug\": [\"colorJitter\", \"grayscale\"]}\n",
    "models_dict, df_modelNames = ut_val.collect_models_dict(exclude_params_dict=exclude_params_dict, keep_params_dict=keep_params_dict)\n",
    "df_modelNames"
   ]
  },
  {
   "cell_type": "code",
   "execution_count": 3,
   "metadata": {},
   "outputs": [],
   "source": [
    "cuda_device = 1\n",
    "\n",
    "dataset_cue_conflict = \"shape_texture_conflict_animals10_many\"\n",
    "\n",
    "_, root_dataset_conflict = ut_val.get_root_dataset(dataset_cue_conflict)\n",
    "\n",
    "dataset_orig = \"animals10_diff_-1\"\n",
    "dataset_shape = \"animals10_diff_4000\""
   ]
  },
  {
   "cell_type": "markdown",
   "metadata": {},
   "source": [
    "## Functions"
   ]
  },
  {
   "cell_type": "markdown",
   "metadata": {},
   "source": [
    "### Correlation Coefficient Shape Bias"
   ]
  },
  {
   "cell_type": "code",
   "execution_count": 15,
   "metadata": {},
   "outputs": [],
   "source": [
    "class ShufflePatches:\n",
    "    # inspired from https://stackoverflow.com/questions/66962837/shuffle-patches-in-image-batch\n",
    "    def __init__(self, patch_size):\n",
    "        self.patch_size = patch_size\n",
    "\n",
    "    def __call__(self, x):\n",
    "        # unfold the tensor image\n",
    "        u = nnf.unfold(x, kernel_size=self.patch_size , stride=self.patch_size , padding=0)\n",
    "        # shuffle the patches in unfolded form\n",
    "        pu = u[:,torch.randperm(u.shape[-1])]\n",
    "        # fold the tensor back in its original form\n",
    "        f = nnf.fold(pu, x.shape[-2:], kernel_size=self.patch_size, stride=self.patch_size, padding=0)\n",
    "\n",
    "        return f\n",
    "    \n",
    "    def apply_to_batch(self, x):\n",
    "        # unfold the tensor image\n",
    "        u = nnf.unfold(x, kernel_size=self.patch_size , stride=self.patch_size , padding=0)\n",
    "        # shuffle the patches in unfolded form\n",
    "        pu = torch.stack([b_[:,torch.randperm(b_.shape[-1])] for b_ in u], dim=0)\n",
    "        # fold the tensor back in its original form\n",
    "        f = nnf.fold(pu, x.shape[-2:], kernel_size=self.patch_size, stride=self.patch_size, padding=0)\n",
    "\n",
    "        return f\n",
    "    \n",
    "\n",
    "class TwoDifferentApply:\n",
    "\n",
    "    def __init__(self, transform_orig=None, transform_diff=None):\n",
    "        self.transform_orig = transform_orig\n",
    "        self.transform_diff = transform_diff\n",
    "\n",
    "    def __call__(self, x):\n",
    "        x_orig, x_diff = x\n",
    "\n",
    "        if self.transform_orig:\n",
    "            x_orig = self.transform_orig(x_orig)\n",
    "        if self.transform_diff:\n",
    "            x_diff = self.transform_diff(x_diff)\n",
    "\n",
    "        return [x_orig, x_diff]"
   ]
  },
  {
   "cell_type": "code",
   "execution_count": 16,
   "metadata": {},
   "outputs": [],
   "source": [
    "def compute_load_orig_shape_texture_embeddings(root_model, dataset_orig, dataset_shape, cuda_device, use_colorJitter=False, patch_size=30):\n",
    "    path_folder, path_embeddings_orig, path_embeddings_diff, _ = ut_val.get_paths_from_model_checkpoint(root_model, dataset_1=dataset_orig, dataset_2=dataset_shape)\n",
    "    params = open_csv_file(os.path.join(path_folder, \"params.csv\"))\n",
    "\n",
    "    _, root_dataset_orig = ut_val.get_root_dataset(dataset=dataset_orig)\n",
    "\n",
    "    # compute patch shuffled embeddings of the original dataset to keep texture information but remove shape information\n",
    "    normalize = transforms.Normalize(mean=params['mean'], std=params['std'])\n",
    "    shufflePatchers_transform_list = []\n",
    "    if use_colorJitter:\n",
    "        shufflePatchers_transform_list.append(transforms.ColorJitter(0.4, 0.4, 0.4, 0.4))\n",
    "    shufflePatchers_transform_list.extend([transforms.ToTensor(), ShufflePatches(patch_size=patch_size), normalize])\n",
    "    shufflePatchers_transform = transforms.Compose(shufflePatchers_transform_list)\n",
    "\n",
    "    shufflePatches_dataset = datasets.ImageFolder(root=root_dataset_orig,transform=shufflePatchers_transform)\n",
    "    shufflePatches_dataloader = torch.utils.data.DataLoader(shufflePatches_dataset, batch_size=params['batch_size'],\n",
    "                                                            shuffle=False, num_workers=16, pin_memory=True)\n",
    "\n",
    "    model = ut_val.set_model(root_model, params, cuda_device)\n",
    "\n",
    "    embedding_texture, _ = ut_val.compute_embedding(model, shufflePatches_dataloader, params, cuda_device)\n",
    "\n",
    "    # load the pre computed original embeddings\n",
    "    with open(os.path.join(path_embeddings_orig, \"embedding_test\"), 'rb') as f:\n",
    "        entry = pickle.load(f, encoding='latin1')\n",
    "        embedding_orig = entry['data']\n",
    "        class_labels = entry['labels']\n",
    "\n",
    "    if use_colorJitter:\n",
    "        # compute the color jittered embeddings of the shape dataset\n",
    "        _, root_dataset_shape = ut_val.get_root_dataset(dataset=dataset_shape)\n",
    "\n",
    "        shape_transform = transforms.Compose([transforms.ColorJitter(0.4, 0.4, 0.4, 0.4),\n",
    "                                              transforms.ToTensor(), normalize])\n",
    "        \n",
    "        shape_dataset = datasets.ImageFolder(root=root_dataset_shape,transform=shape_transform)\n",
    "        shape_dataloader = torch.utils.data.DataLoader(shape_dataset, batch_size=params['batch_size'],\n",
    "                                                       shuffle=False, num_workers=16, pin_memory=True)\n",
    "        \n",
    "        embedding_shape, _ = ut_val.compute_embedding(model, shape_dataloader, params, cuda_device)\n",
    "    else:\n",
    "        # load pre computed embeddings of the shape dataset\n",
    "        with open(os.path.join(path_embeddings_diff, \"embedding_test\"), 'rb') as f:\n",
    "            entry = pickle.load(f, encoding='latin1')\n",
    "            embedding_shape = entry['data']\n",
    "\n",
    "    return embedding_orig, embedding_shape, embedding_texture, class_labels"
   ]
  },
  {
   "cell_type": "code",
   "execution_count": 17,
   "metadata": {},
   "outputs": [],
   "source": [
    "def compute_load_orig_shape_texture_embeddings(root_model, dataset_orig, dataset_shape, cuda_device, use_colorJitter=False, patch_size=30):\n",
    "    path_folder, path_embeddings_orig, path_embeddings_diff, _ = ut_val.get_paths_from_model_checkpoint(root_model, dataset_1=dataset_orig, dataset_2=dataset_shape)\n",
    "    params = open_csv_file(os.path.join(path_folder, \"params.csv\"))\n",
    "\n",
    "    _, root_dataset_orig = ut_val.get_root_dataset(dataset=dataset_orig)\n",
    "\n",
    "    # load the pre computed original embeddings\n",
    "    with open(os.path.join(path_embeddings_orig, \"embedding_test\"), 'rb') as f:\n",
    "        entry = pickle.load(f, encoding='latin1')\n",
    "        embedding_orig = entry['data']\n",
    "        class_labels = entry['labels']\n",
    "\n",
    "    if use_colorJitter:\n",
    "        # compute the embeddings of the shape dataset and the patch shuffled original dataset with the same color jitter applied to both\n",
    "        _, root_dataset_shape = ut_val.get_root_dataset(dataset=dataset_shape)\n",
    "\n",
    "        normalize = transforms.Normalize(mean=params['mean'], std=params['std'])\n",
    "        sameJitterOrigPatchShuffle_transform = transforms.Compose([SameTwoColorJitter(0.4, 0.4, 0.4, 0.4), SameTwoApply(transforms.ToTensor()),\n",
    "                                                                   TwoDifferentApply(transform_orig=ShufflePatches(patch_size=patch_size))])\n",
    "        \n",
    "        textureShape_dataset = datasets.ImageFolder(root=root_dataset_orig,\n",
    "                                                    loader=DiffLoader(path_orig=root_dataset_orig, path_diff=root_dataset_shape),\n",
    "                                                    transform=DiffTransform(normalize, sameJitterOrigPatchShuffle_transform))\n",
    "        textureShape_dataloader = torch.utils.data.DataLoader(textureShape_dataset, batch_size=params['batch_size'],\n",
    "                                                                shuffle=False, num_workers=params[\"num_workers\"], pin_memory=True)\n",
    "        \n",
    "        model = ut_val.set_model(root_model, params, cuda_device)\n",
    "\n",
    "        embedding_texture, embedding_shape, _ = ut_val.compute_diff_embeddings(model, textureShape_dataloader, params, cuda_device)\n",
    "        \n",
    "    else:\n",
    "        # load pre computed embeddings of the shape dataset\n",
    "        with open(os.path.join(path_embeddings_diff, \"embedding_test\"), 'rb') as f:\n",
    "            entry = pickle.load(f, encoding='latin1')\n",
    "            embedding_shape = entry['data']\n",
    "\n",
    "        # compute patch shuffled embeddings of the original dataset to keep texture information but remove shape information\n",
    "        normalize = transforms.Normalize(mean=params['mean'], std=params['std'])\n",
    "        shufflePatchers_transform = transforms.Compose([transforms.ToTensor(), ShufflePatches(patch_size=patch_size), normalize])\n",
    "\n",
    "        shufflePatches_dataset = datasets.ImageFolder(root=root_dataset_orig,transform=shufflePatchers_transform)\n",
    "        shufflePatches_dataloader = torch.utils.data.DataLoader(shufflePatches_dataset, batch_size=params['batch_size'],\n",
    "                                                                shuffle=False, num_workers=params[\"num_workers\"], pin_memory=True)\n",
    "\n",
    "        model = ut_val.set_model(root_model, params, cuda_device)\n",
    "\n",
    "        embedding_texture, _ = ut_val.compute_embedding(model, shufflePatches_dataloader, params, cuda_device)\n",
    "\n",
    "    return embedding_orig, embedding_shape, embedding_texture, class_labels"
   ]
  },
  {
   "cell_type": "code",
   "execution_count": 18,
   "metadata": {},
   "outputs": [],
   "source": [
    "def compute_dim_correlation_coefficients(embedding_A, embedding_B):\n",
    "    A = torch.tensor(embedding_A)\n",
    "    B = torch.tensor(embedding_B)\n",
    "\n",
    "    A_dm = A - A.mean(dim=0)\n",
    "    B_dm = B - B.mean(dim=0)\n",
    "\n",
    "    correlation = (A_dm * B_dm).sum(dim=0) / ((A_dm * A_dm).sum(dim=0) * (B_dm * B_dm).sum(dim=0)).sqrt()\n",
    "    correlation = torch.nan_to_num(correlation, nan=0.0)\n",
    "\n",
    "    return correlation.numpy()\n",
    "\n",
    "def estimate_dims(correlation):\n",
    "    correlation_scores = np.mean(np.array(correlation), axis=1)\n",
    "\n",
    "    scores = np.array(np.concatenate((correlation_scores, [1.0])))\n",
    "\n",
    "    m = np.max(scores)\n",
    "    e = np.exp(scores-m)\n",
    "    softmaxed = e / np.sum(e)\n",
    "\n",
    "    dim = len(correlation[0])\n",
    "    dims = [int(s*dim) for s in softmaxed]\n",
    "    dims[-1] = dim - sum(dims[:-1])\n",
    "\n",
    "    return dims"
   ]
  },
  {
   "cell_type": "code",
   "execution_count": 19,
   "metadata": {},
   "outputs": [],
   "source": [
    "def compute_corelation_coefficient_shape_bias_metric(embedding_orig, embedding_shape, embedding_texture, model_short_name):\n",
    "    corr_coef_shape = compute_dim_correlation_coefficients(embedding_orig, embedding_shape)\n",
    "    corr_coef_texture = compute_dim_correlation_coefficients(embedding_orig, embedding_texture)\n",
    "    corr_coef_color = compute_dim_correlation_coefficients(embedding_shape, embedding_texture)\n",
    "\n",
    "    dims = estimate_dims([corr_coef_shape, corr_coef_texture, corr_coef_color])\n",
    "\n",
    "    df_dims = pd.DataFrame.from_dict({model_short_name: dims}, orient=\"index\", columns=[\"shape_dims\", \"texture_dims\", \"color_dims\", \"remaining_dims\"])\n",
    "\n",
    "    return df_dims"
   ]
  },
  {
   "cell_type": "code",
   "execution_count": 20,
   "metadata": {},
   "outputs": [],
   "source": [
    "def corelation_coefficient_shape_bias_metric(root_model, model_short_name, dataset_orig, dataset_shape, cuda_device, use_colorJitter=False, patch_size=30):\n",
    "    embedding_orig, embedding_shape, embedding_texture, _ = compute_load_orig_shape_texture_embeddings(root_model, dataset_orig, dataset_shape, cuda_device, use_colorJitter, patch_size)\n",
    "\n",
    "    df_dims = compute_corelation_coefficient_shape_bias_metric(embedding_orig, embedding_shape, embedding_texture, model_short_name)\n",
    "\n",
    "    return df_dims"
   ]
  },
  {
   "cell_type": "code",
   "execution_count": 21,
   "metadata": {},
   "outputs": [],
   "source": [
    "def corelation_coefficient_shape_bias_metric_for_many(models_dict, dataset_orig, dataset_shape, cuda_device, use_colorJitter=False, patch_size=30):\n",
    "    dims_list = []\n",
    "    for m in models_dict:\n",
    "        root_model, _ = models_dict[m]\n",
    "\n",
    "        embedding_orig, embedding_shape, embedding_texture, _ = compute_load_orig_shape_texture_embeddings(root_model, dataset_orig, dataset_shape, cuda_device, use_colorJitter, patch_size)\n",
    "\n",
    "        df_dims = compute_corelation_coefficient_shape_bias_metric(embedding_orig, embedding_shape, embedding_texture, m)\n",
    "        dims_list.append(df_dims)\n",
    "\n",
    "    return pd.concat(dims_list, axis=0)"
   ]
  },
  {
   "cell_type": "markdown",
   "metadata": {},
   "source": [
    "## Validations"
   ]
  },
  {
   "cell_type": "markdown",
   "metadata": {},
   "source": [
    "### Cue Conflict Shape Bias"
   ]
  },
  {
   "cell_type": "code",
   "execution_count": 5,
   "metadata": {},
   "outputs": [
    {
     "name": "stdout",
     "output_type": "stream",
     "text": [
      "Get predictions for shape texture cue conflict dataset\n"
     ]
    },
    {
     "name": "stderr",
     "output_type": "stream",
     "text": [
      "100%|██████████| 897/897 [04:26<00:00,  3.37it/s]\n"
     ]
    },
    {
     "data": {
      "text/html": [
       "<div>\n",
       "<style scoped>\n",
       "    .dataframe tbody tr th:only-of-type {\n",
       "        vertical-align: middle;\n",
       "    }\n",
       "\n",
       "    .dataframe tbody tr th {\n",
       "        vertical-align: top;\n",
       "    }\n",
       "\n",
       "    .dataframe thead th {\n",
       "        text-align: right;\n",
       "    }\n",
       "</style>\n",
       "<table border=\"1\" class=\"dataframe\">\n",
       "  <thead>\n",
       "    <tr style=\"text-align: right;\">\n",
       "      <th></th>\n",
       "      <th>SupCon_20.0_animals10_diff_-1+4000_cAugSameSAug</th>\n",
       "    </tr>\n",
       "  </thead>\n",
       "  <tbody>\n",
       "    <tr>\n",
       "      <th>shape_bias</th>\n",
       "      <td>0.653593</td>\n",
       "    </tr>\n",
       "    <tr>\n",
       "      <th>shape_bias_b</th>\n",
       "      <td>0.653593</td>\n",
       "    </tr>\n",
       "    <tr>\n",
       "      <th>acc</th>\n",
       "      <td>0.377349</td>\n",
       "    </tr>\n",
       "    <tr>\n",
       "      <th>acc_b</th>\n",
       "      <td>0.377349</td>\n",
       "    </tr>\n",
       "    <tr>\n",
       "      <th>acc_shape</th>\n",
       "      <td>0.246632</td>\n",
       "    </tr>\n",
       "    <tr>\n",
       "      <th>acc_b_shape</th>\n",
       "      <td>0.246632</td>\n",
       "    </tr>\n",
       "    <tr>\n",
       "      <th>acc_texture</th>\n",
       "      <td>0.130716</td>\n",
       "    </tr>\n",
       "    <tr>\n",
       "      <th>acc_b_texture</th>\n",
       "      <td>0.130716</td>\n",
       "    </tr>\n",
       "  </tbody>\n",
       "</table>\n",
       "</div>"
      ],
      "text/plain": [
       "               SupCon_20.0_animals10_diff_-1+4000_cAugSameSAug\n",
       "shape_bias                                            0.653593\n",
       "shape_bias_b                                          0.653593\n",
       "acc                                                   0.377349\n",
       "acc_b                                                 0.377349\n",
       "acc_shape                                             0.246632\n",
       "acc_b_shape                                           0.246632\n",
       "acc_texture                                           0.130716\n",
       "acc_b_texture                                         0.130716"
      ]
     },
     "execution_count": 5,
     "metadata": {},
     "output_type": "execute_result"
    },
    {
     "data": {
      "image/png": "[encoded data removed]",
      "text/plain": [
       "<Figure size 640x480 with 1 Axes>"
      ]
     },
     "metadata": {},
     "output_type": "display_data"
    },
    {
     "data": {
      "image/png": "[encoded data removed]",
      "text/plain": [
       "<Figure size 640x480 with 1 Axes>"
      ]
     },
     "metadata": {},
     "output_type": "display_data"
    }
   ],
   "source": [
    "df_biases, class_biases = ut_sb.cue_conflict_shape_bias_metric_for_many(models_dict, root_dataset_conflict, cuda_device)\n",
    "ut_sb.save_cue_conflict_shape_bias_to_csv_file_for_many(models_dict, df_biases, class_biases, dataset_cue_conflict, save_plots=True)\n",
    "\n",
    "for m in models_dict:\n",
    "    root_model, _ = models_dict[m]\n",
    "    path_folder, _ = ut_val.get_paths_from_model_checkpoint(root_model)\n",
    "    create_shape_bias_md(path_folder)\n",
    "\n",
    "df_biases"
   ]
  },
  {
   "cell_type": "markdown",
   "metadata": {},
   "source": [
    "### Correlation Coefficient Shape Bias"
   ]
  },
  {
   "cell_type": "code",
   "execution_count": 25,
   "metadata": {},
   "outputs": [
    {
     "name": "stderr",
     "output_type": "stream",
     "text": [
      "100%|██████████| 202/202 [02:04<00:00,  1.62it/s]\n",
      "100%|██████████| 202/202 [02:03<00:00,  1.63it/s]\n",
      "100%|██████████| 202/202 [02:02<00:00,  1.64it/s]\n",
      "100%|██████████| 202/202 [02:03<00:00,  1.63it/s]\n",
      "100%|██████████| 202/202 [02:03<00:00,  1.63it/s]\n",
      "100%|██████████| 202/202 [02:03<00:00,  1.64it/s]\n",
      "100%|██████████| 202/202 [02:03<00:00,  1.63it/s]\n"
     ]
    },
    {
     "data": {
      "text/html": [
       "<div>\n",
       "<style scoped>\n",
       "    .dataframe tbody tr th:only-of-type {\n",
       "        vertical-align: middle;\n",
       "    }\n",
       "\n",
       "    .dataframe tbody tr th {\n",
       "        vertical-align: top;\n",
       "    }\n",
       "\n",
       "    .dataframe thead th {\n",
       "        text-align: right;\n",
       "    }\n",
       "</style>\n",
       "<table border=\"1\" class=\"dataframe\">\n",
       "  <thead>\n",
       "    <tr style=\"text-align: right;\">\n",
       "      <th></th>\n",
       "      <th>shape_dims</th>\n",
       "      <th>texture_dims</th>\n",
       "      <th>color_dims</th>\n",
       "      <th>remaining_dims</th>\n",
       "    </tr>\n",
       "  </thead>\n",
       "  <tbody>\n",
       "    <tr>\n",
       "      <th>CE_origAllAug</th>\n",
       "      <td>133</td>\n",
       "      <td>102</td>\n",
       "      <td>104</td>\n",
       "      <td>173</td>\n",
       "    </tr>\n",
       "    <tr>\n",
       "      <th>CE_diff4000AllAug</th>\n",
       "      <td>133</td>\n",
       "      <td>106</td>\n",
       "      <td>90</td>\n",
       "      <td>183</td>\n",
       "    </tr>\n",
       "    <tr>\n",
       "      <th>CE_diffAugAllAug</th>\n",
       "      <td>155</td>\n",
       "      <td>94</td>\n",
       "      <td>96</td>\n",
       "      <td>167</td>\n",
       "    </tr>\n",
       "    <tr>\n",
       "      <th>SupCon_baseline</th>\n",
       "      <td>129</td>\n",
       "      <td>105</td>\n",
       "      <td>101</td>\n",
       "      <td>177</td>\n",
       "    </tr>\n",
       "    <tr>\n",
       "      <th>SupCon_diffCSameSAug</th>\n",
       "      <td>155</td>\n",
       "      <td>92</td>\n",
       "      <td>94</td>\n",
       "      <td>171</td>\n",
       "    </tr>\n",
       "    <tr>\n",
       "      <th>SupConHybrid_diffColorAug</th>\n",
       "      <td>162</td>\n",
       "      <td>88</td>\n",
       "      <td>90</td>\n",
       "      <td>172</td>\n",
       "    </tr>\n",
       "    <tr>\n",
       "      <th>SupConFactor_factor5cAugSameSAug</th>\n",
       "      <td>163</td>\n",
       "      <td>87</td>\n",
       "      <td>88</td>\n",
       "      <td>174</td>\n",
       "    </tr>\n",
       "  </tbody>\n",
       "</table>\n",
       "</div>"
      ],
      "text/plain": [
       "                                  shape_dims  texture_dims  color_dims  \\\n",
       "CE_origAllAug                            133           102         104   \n",
       "CE_diff4000AllAug                        133           106          90   \n",
       "CE_diffAugAllAug                         155            94          96   \n",
       "SupCon_baseline                          129           105         101   \n",
       "SupCon_diffCSameSAug                     155            92          94   \n",
       "SupConHybrid_diffColorAug                162            88          90   \n",
       "SupConFactor_factor5cAugSameSAug         163            87          88   \n",
       "\n",
       "                                  remaining_dims  \n",
       "CE_origAllAug                                173  \n",
       "CE_diff4000AllAug                            183  \n",
       "CE_diffAugAllAug                             167  \n",
       "SupCon_baseline                              177  \n",
       "SupCon_diffCSameSAug                         171  \n",
       "SupConHybrid_diffColorAug                    172  \n",
       "SupConFactor_factor5cAugSameSAug             174  "
      ]
     },
     "execution_count": 25,
     "metadata": {},
     "output_type": "execute_result"
    }
   ],
   "source": [
    "df_dims = corelation_coefficient_shape_bias_metric_for_many(models_dict, dataset_orig, dataset_shape, cuda_device, use_colorJitter=True)\n",
    "df_dims"
   ]
  },
  {
   "cell_type": "code",
   "execution_count": 28,
   "metadata": {},
   "outputs": [],
   "source": [
    "df_dims.to_csv(\"./save/Validation/corrCoefShapeBias/colorAug_corrCoefShapeBias.csv\")"
   ]
  },
  {
   "cell_type": "markdown",
   "metadata": {},
   "source": [
    "-------------------"
   ]
  },
  {
   "cell_type": "code",
   "execution_count": 4,
   "metadata": {},
   "outputs": [
    {
     "name": "stderr",
     "output_type": "stream",
     "text": [
      "100%|██████████| 202/202 [02:02<00:00,  1.66it/s]\n"
     ]
    },
    {
     "data": {
      "text/html": [
       "<div>\n",
       "<style scoped>\n",
       "    .dataframe tbody tr th:only-of-type {\n",
       "        vertical-align: middle;\n",
       "    }\n",
       "\n",
       "    .dataframe tbody tr th {\n",
       "        vertical-align: top;\n",
       "    }\n",
       "\n",
       "    .dataframe thead th {\n",
       "        text-align: right;\n",
       "    }\n",
       "</style>\n",
       "<table border=\"1\" class=\"dataframe\">\n",
       "  <thead>\n",
       "    <tr style=\"text-align: right;\">\n",
       "      <th></th>\n",
       "      <th>shape_dims</th>\n",
       "      <th>texture_dims</th>\n",
       "      <th>color_dims</th>\n",
       "      <th>remaining_dims</th>\n",
       "    </tr>\n",
       "  </thead>\n",
       "  <tbody>\n",
       "    <tr>\n",
       "      <th>SupCon_20.0_animals10_diff_-1+4000_cAugSameSAug</th>\n",
       "      <td>163</td>\n",
       "      <td>88</td>\n",
       "      <td>89</td>\n",
       "      <td>172</td>\n",
       "    </tr>\n",
       "  </tbody>\n",
       "</table>\n",
       "</div>"
      ],
      "text/plain": [
       "                                                 shape_dims  texture_dims  \\\n",
       "SupCon_20.0_animals10_diff_-1+4000_cAugSameSAug         163            88   \n",
       "\n",
       "                                                 color_dims  remaining_dims  \n",
       "SupCon_20.0_animals10_diff_-1+4000_cAugSameSAug          89             172  "
      ]
     },
     "execution_count": 4,
     "metadata": {},
     "output_type": "execute_result"
    }
   ],
   "source": [
    "model_short_name = \"SupCon_20.0_animals10_diff_-1+4000_cAugSameSAug\"\n",
    "\n",
    "root_model = models_dict[model_short_name][0]\n",
    "\n",
    "df_dims = ut_sb.corelation_coefficient_shape_bias_metric(root_model, model_short_name, dataset_orig, dataset_shape, cuda_device, use_colorJitter=True)\n",
    "df_dims"
   ]
  },
  {
   "cell_type": "code",
   "execution_count": 26,
   "metadata": {},
   "outputs": [
    {
     "name": "stderr",
     "output_type": "stream",
     "text": [
      "100%|██████████| 202/202 [02:03<00:00,  1.64it/s]\n"
     ]
    },
    {
     "data": {
      "text/html": [
       "<div>\n",
       "<style scoped>\n",
       "    .dataframe tbody tr th:only-of-type {\n",
       "        vertical-align: middle;\n",
       "    }\n",
       "\n",
       "    .dataframe tbody tr th {\n",
       "        vertical-align: top;\n",
       "    }\n",
       "\n",
       "    .dataframe thead th {\n",
       "        text-align: right;\n",
       "    }\n",
       "</style>\n",
       "<table border=\"1\" class=\"dataframe\">\n",
       "  <thead>\n",
       "    <tr style=\"text-align: right;\">\n",
       "      <th></th>\n",
       "      <th>shape_dims</th>\n",
       "      <th>texture_dims</th>\n",
       "      <th>color_dims</th>\n",
       "      <th>remaining_dims</th>\n",
       "    </tr>\n",
       "  </thead>\n",
       "  <tbody>\n",
       "    <tr>\n",
       "      <th>SupConFactor_factor20cAugSameSAug</th>\n",
       "      <td>163</td>\n",
       "      <td>88</td>\n",
       "      <td>89</td>\n",
       "      <td>172</td>\n",
       "    </tr>\n",
       "  </tbody>\n",
       "</table>\n",
       "</div>"
      ],
      "text/plain": [
       "                                   shape_dims  texture_dims  color_dims  \\\n",
       "SupConFactor_factor20cAugSameSAug         163            88          89   \n",
       "\n",
       "                                   remaining_dims  \n",
       "SupConFactor_factor20cAugSameSAug             172  "
      ]
     },
     "execution_count": 26,
     "metadata": {},
     "output_type": "execute_result"
    }
   ],
   "source": [
    "model_short_name = \"SupConFactor_factor20cAugSameSAug\"\n",
    "\n",
    "root_model = models_dict[model_short_name][0]\n",
    "\n",
    "df_dims = corelation_coefficient_shape_bias_metric(root_model, model_short_name, dataset_orig, dataset_shape, cuda_device, use_colorJitter=True)\n",
    "df_dims"
   ]
  },
  {
   "cell_type": "code",
   "execution_count": 29,
   "metadata": {},
   "outputs": [
    {
     "name": "stderr",
     "output_type": "stream",
     "text": [
      "100%|██████████| 202/202 [02:05<00:00,  1.61it/s]\n"
     ]
    },
    {
     "data": {
      "text/html": [
       "<div>\n",
       "<style scoped>\n",
       "    .dataframe tbody tr th:only-of-type {\n",
       "        vertical-align: middle;\n",
       "    }\n",
       "\n",
       "    .dataframe tbody tr th {\n",
       "        vertical-align: top;\n",
       "    }\n",
       "\n",
       "    .dataframe thead th {\n",
       "        text-align: right;\n",
       "    }\n",
       "</style>\n",
       "<table border=\"1\" class=\"dataframe\">\n",
       "  <thead>\n",
       "    <tr style=\"text-align: right;\">\n",
       "      <th></th>\n",
       "      <th>shape_dims</th>\n",
       "      <th>texture_dims</th>\n",
       "      <th>color_dims</th>\n",
       "      <th>remaining_dims</th>\n",
       "    </tr>\n",
       "  </thead>\n",
       "  <tbody>\n",
       "    <tr>\n",
       "      <th>SupConFactor_factor20cAugSameSAug</th>\n",
       "      <td>162</td>\n",
       "      <td>89</td>\n",
       "      <td>90</td>\n",
       "      <td>171</td>\n",
       "    </tr>\n",
       "  </tbody>\n",
       "</table>\n",
       "</div>"
      ],
      "text/plain": [
       "                                   shape_dims  texture_dims  color_dims  \\\n",
       "SupConFactor_factor20cAugSameSAug         162            89          90   \n",
       "\n",
       "                                   remaining_dims  \n",
       "SupConFactor_factor20cAugSameSAug             171  "
      ]
     },
     "execution_count": 29,
     "metadata": {},
     "output_type": "execute_result"
    }
   ],
   "source": [
    "# after 200 epochs\n",
    "model_short_name = \"SupConFactor_factor20cAugSameSAug\"\n",
    "\n",
    "root_model = models_dict[model_short_name][0]\n",
    "\n",
    "df_dims = corelation_coefficient_shape_bias_metric(root_model, model_short_name, dataset_orig, dataset_shape, cuda_device, use_colorJitter=True)\n",
    "df_dims"
   ]
  },
  {
   "cell_type": "code",
   "execution_count": 53,
   "metadata": {},
   "outputs": [
    {
     "name": "stderr",
     "output_type": "stream",
     "text": [
      "100%|██████████| 202/202 [02:21<00:00,  1.42it/s]\n",
      "100%|██████████| 202/202 [02:19<00:00,  1.44it/s]\n"
     ]
    }
   ],
   "source": [
    "df_dims = corelation_coefficient_shape_bias_metric_for_many(models_dict, dataset_orig, dataset_shape, cuda_device, use_colorJitter=True)"
   ]
  },
  {
   "cell_type": "code",
   "execution_count": 54,
   "metadata": {},
   "outputs": [
    {
     "data": {
      "text/html": [
       "<div>\n",
       "<style scoped>\n",
       "    .dataframe tbody tr th:only-of-type {\n",
       "        vertical-align: middle;\n",
       "    }\n",
       "\n",
       "    .dataframe tbody tr th {\n",
       "        vertical-align: top;\n",
       "    }\n",
       "\n",
       "    .dataframe thead th {\n",
       "        text-align: right;\n",
       "    }\n",
       "</style>\n",
       "<table border=\"1\" class=\"dataframe\">\n",
       "  <thead>\n",
       "    <tr style=\"text-align: right;\">\n",
       "      <th></th>\n",
       "      <th>shape_dims</th>\n",
       "      <th>texture_dims</th>\n",
       "      <th>color_dims</th>\n",
       "      <th>remaining_dims</th>\n",
       "    </tr>\n",
       "  </thead>\n",
       "  <tbody>\n",
       "    <tr>\n",
       "      <th>CE_baseline</th>\n",
       "      <td>115</td>\n",
       "      <td>96</td>\n",
       "      <td>121</td>\n",
       "      <td>180</td>\n",
       "    </tr>\n",
       "    <tr>\n",
       "      <th>SupConFactor_factor5cAugSameSAug</th>\n",
       "      <td>163</td>\n",
       "      <td>87</td>\n",
       "      <td>88</td>\n",
       "      <td>174</td>\n",
       "    </tr>\n",
       "  </tbody>\n",
       "</table>\n",
       "</div>"
      ],
      "text/plain": [
       "                                  shape_dims  texture_dims  color_dims  \\\n",
       "CE_baseline                              115            96         121   \n",
       "SupConFactor_factor5cAugSameSAug         163            87          88   \n",
       "\n",
       "                                  remaining_dims  \n",
       "CE_baseline                                  180  \n",
       "SupConFactor_factor5cAugSameSAug             174  "
      ]
     },
     "execution_count": 54,
     "metadata": {},
     "output_type": "execute_result"
    }
   ],
   "source": [
    "# with colorJitter\n",
    "df_dims"
   ]
  },
  {
   "cell_type": "code",
   "execution_count": 45,
   "metadata": {},
   "outputs": [
    {
     "data": {
      "text/html": [
       "<div>\n",
       "<style scoped>\n",
       "    .dataframe tbody tr th:only-of-type {\n",
       "        vertical-align: middle;\n",
       "    }\n",
       "\n",
       "    .dataframe tbody tr th {\n",
       "        vertical-align: top;\n",
       "    }\n",
       "\n",
       "    .dataframe thead th {\n",
       "        text-align: right;\n",
       "    }\n",
       "</style>\n",
       "<table border=\"1\" class=\"dataframe\">\n",
       "  <thead>\n",
       "    <tr style=\"text-align: right;\">\n",
       "      <th></th>\n",
       "      <th>shape_dims</th>\n",
       "      <th>texture_dims</th>\n",
       "      <th>color_dims</th>\n",
       "      <th>remaining_dims</th>\n",
       "    </tr>\n",
       "  </thead>\n",
       "  <tbody>\n",
       "    <tr>\n",
       "      <th>CE_baseline</th>\n",
       "      <td>129</td>\n",
       "      <td>111</td>\n",
       "      <td>109</td>\n",
       "      <td>163</td>\n",
       "    </tr>\n",
       "    <tr>\n",
       "      <th>SupConFactor_factor5cAugSameSAug</th>\n",
       "      <td>165</td>\n",
       "      <td>87</td>\n",
       "      <td>86</td>\n",
       "      <td>174</td>\n",
       "    </tr>\n",
       "  </tbody>\n",
       "</table>\n",
       "</div>"
      ],
      "text/plain": [
       "                                  shape_dims  texture_dims  color_dims  \\\n",
       "CE_baseline                              129           111         109   \n",
       "SupConFactor_factor5cAugSameSAug         165            87          86   \n",
       "\n",
       "                                  remaining_dims  \n",
       "CE_baseline                                  163  \n",
       "SupConFactor_factor5cAugSameSAug             174  "
      ]
     },
     "execution_count": 45,
     "metadata": {},
     "output_type": "execute_result"
    }
   ],
   "source": [
    "# without colorJitter\n",
    "df_dims"
   ]
  },
  {
   "cell_type": "markdown",
   "metadata": {},
   "source": [
    "### Feature Embedding Distances"
   ]
  },
  {
   "cell_type": "code",
   "execution_count": null,
   "metadata": {},
   "outputs": [],
   "source": [
    "df_distances = ut_sb.compute_distance_to_diff_for_many(models_dict, dataset_orig, dataset_shape, cuda_device, plot_hist=False)\n",
    "ut_sb.save_dist_to_csv_file_for_many(models_dict, df_distances, dataset_orig, dataset_shape)\n",
    "\n",
    "for m in models_dict:\n",
    "    root_model, _ = models_dict[m]\n",
    "    path_folder, _ = ut_val.get_paths_from_model_checkpoint(root_model)\n",
    "    create_distances_md(path_folder)\n",
    "\n",
    "df_distances"
   ]
  }
 ],
 "metadata": {
  "kernelspec": {
   "display_name": "pytorch_venv",
   "language": "python",
   "name": "python3"
  },
  "language_info": {
   "codemirror_mode": {
    "name": "ipython",
    "version": 3
   },
   "file_extension": ".py",
   "mimetype": "text/x-python",
   "name": "python",
   "nbconvert_exporter": "python",
   "pygments_lexer": "ipython3",
   "version": "3.9.5"
  }
 },
 "nbformat": 4,
 "nbformat_minor": 2
}
